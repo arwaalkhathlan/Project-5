{
 "cells": [
  {
   "cell_type": "code",
   "execution_count": 11,
   "metadata": {},
   "outputs": [],
   "source": [
    "import numpy as np\n",
    "import pandas as pd\n",
    "import matplotlib.pyplot as plt\n",
    "import seaborn as sns\n",
    "from scipy.stats import zscore\n",
    "import plotly.express as px\n",
    "import re\n",
    "import sweetviz as sv\n",
    "from sklearn.preprocessing import LabelEncoder\n",
    "\n",
    "from ydata_profiling import ProfileReport\n",
    "from sklearn.model_selection import train_test_split\n",
    "from sklearn.metrics import mean_squared_error, r2_score, mean_absolute_error\n",
    "from sklearn.preprocessing import StandardScaler\n",
    "from sklearn.model_selection import GridSearchCV\n",
    "from sklearn import metrics\n",
    "\n",
    "from sklearn.model_selection import train_test_split, cross_val_score\n",
    "from sklearn.preprocessing import StandardScaler\n",
    "from sklearn.cluster import KMeans\n",
    "from sklearn.preprocessing import LabelEncoder\n",
    "from sklearn import metrics\n",
    "from sklearn.metrics import silhouette_score\n",
    "import warnings\n",
    "warnings.filterwarnings(\"ignore\")\n",
    "from sklearn.cluster import DBSCAN\n",
    "from sklearn.preprocessing import StandardScaler\n",
    "import matplotlib.pyplot as plt\n",
    "%matplotlib inline"
   ]
  },
  {
   "cell_type": "code",
   "execution_count": 12,
   "metadata": {},
   "outputs": [],
   "source": [
    "df = pd.read_csv(\"finalresult.csv\")"
   ]
  },
  {
   "cell_type": "code",
   "execution_count": 14,
   "metadata": {},
   "outputs": [],
   "source": [
    "df=df.loc[:,['Product_Name','Product_Price','RAMGB','Storage_Capacity_GB','Storage_Type','kmeans']]"
   ]
  },
  {
   "cell_type": "code",
   "execution_count": 15,
   "metadata": {},
   "outputs": [],
   "source": [
    "df_0 = df[df['kmeans']==0]\n",
    "df_1 = df[df['kmeans']==1]\n",
    "df_2 = df[df['kmeans']==2]\n",
    "df_3 = df[df['kmeans']==3]"
   ]
  },
  {
   "cell_type": "code",
   "execution_count": 19,
   "metadata": {},
   "outputs": [],
   "source": [
    "df_0 = df_0.drop('kmeans', axis=1)  # axis=1 indicates you are dropping a column"
   ]
  },
  {
   "cell_type": "code",
   "execution_count": 20,
   "metadata": {},
   "outputs": [
    {
     "data": {
      "text/html": [
       "<div>\n",
       "<style scoped>\n",
       "    .dataframe tbody tr th:only-of-type {\n",
       "        vertical-align: middle;\n",
       "    }\n",
       "\n",
       "    .dataframe tbody tr th {\n",
       "        vertical-align: top;\n",
       "    }\n",
       "\n",
       "    .dataframe thead th {\n",
       "        text-align: right;\n",
       "    }\n",
       "</style>\n",
       "<table border=\"1\" class=\"dataframe\">\n",
       "  <thead>\n",
       "    <tr style=\"text-align: right;\">\n",
       "      <th></th>\n",
       "      <th>Product_Name</th>\n",
       "      <th>Product_Price</th>\n",
       "      <th>RAMGB</th>\n",
       "      <th>Storage_Capacity_GB</th>\n",
       "      <th>Storage_Type</th>\n",
       "    </tr>\n",
       "  </thead>\n",
       "  <tbody>\n",
       "    <tr>\n",
       "      <th>7</th>\n",
       "      <td>Apple MacBook Air 13 M1 Retina</td>\n",
       "      <td>2999</td>\n",
       "      <td>8</td>\n",
       "      <td>256.0</td>\n",
       "      <td>SSD</td>\n",
       "    </tr>\n",
       "    <tr>\n",
       "      <th>11</th>\n",
       "      <td>HP EliteBook 840 G10</td>\n",
       "      <td>4019</td>\n",
       "      <td>16</td>\n",
       "      <td>512.0</td>\n",
       "      <td>PCIe NVMe M.2 SSD</td>\n",
       "    </tr>\n",
       "    <tr>\n",
       "      <th>16</th>\n",
       "      <td>Apple MacBook Air 13 M1 Retina</td>\n",
       "      <td>2999</td>\n",
       "      <td>8</td>\n",
       "      <td>256.0</td>\n",
       "      <td>SSD</td>\n",
       "    </tr>\n",
       "    <tr>\n",
       "      <th>23</th>\n",
       "      <td>Apple MacBook Air 13 M2 Retina</td>\n",
       "      <td>4499</td>\n",
       "      <td>8</td>\n",
       "      <td>256.0</td>\n",
       "      <td>SSD</td>\n",
       "    </tr>\n",
       "    <tr>\n",
       "      <th>29</th>\n",
       "      <td>Acer Aspire 5</td>\n",
       "      <td>1999</td>\n",
       "      <td>8</td>\n",
       "      <td>512.0</td>\n",
       "      <td>PCIe NVMe M.2 SSD</td>\n",
       "    </tr>\n",
       "    <tr>\n",
       "      <th>...</th>\n",
       "      <td>...</td>\n",
       "      <td>...</td>\n",
       "      <td>...</td>\n",
       "      <td>...</td>\n",
       "      <td>...</td>\n",
       "    </tr>\n",
       "    <tr>\n",
       "      <th>452</th>\n",
       "      <td>HP 15s-fq5038nx</td>\n",
       "      <td>1899</td>\n",
       "      <td>8</td>\n",
       "      <td>512.0</td>\n",
       "      <td>SSD M.2</td>\n",
       "    </tr>\n",
       "    <tr>\n",
       "      <th>453</th>\n",
       "      <td>Dell Vostro 15 3520</td>\n",
       "      <td>2899</td>\n",
       "      <td>8</td>\n",
       "      <td>512.0</td>\n",
       "      <td>SSD M.2</td>\n",
       "    </tr>\n",
       "    <tr>\n",
       "      <th>454</th>\n",
       "      <td>Asus Vivobook Go 15 E1504GA-NJ255</td>\n",
       "      <td>1149</td>\n",
       "      <td>8</td>\n",
       "      <td>256.0</td>\n",
       "      <td>SSD M.2</td>\n",
       "    </tr>\n",
       "    <tr>\n",
       "      <th>455</th>\n",
       "      <td>MacBook Air M1 2020</td>\n",
       "      <td>2699</td>\n",
       "      <td>8</td>\n",
       "      <td>256.0</td>\n",
       "      <td>SSD</td>\n",
       "    </tr>\n",
       "    <tr>\n",
       "      <th>456</th>\n",
       "      <td>IdeaPad Slim 5 14Q8X9</td>\n",
       "      <td>3699</td>\n",
       "      <td>16</td>\n",
       "      <td>512.0</td>\n",
       "      <td>SSD M.2</td>\n",
       "    </tr>\n",
       "  </tbody>\n",
       "</table>\n",
       "<p>205 rows × 5 columns</p>\n",
       "</div>"
      ],
      "text/plain": [
       "                          Product_Name  Product_Price  RAMGB  \\\n",
       "7       Apple MacBook Air 13 M1 Retina           2999      8   \n",
       "11                HP EliteBook 840 G10           4019     16   \n",
       "16      Apple MacBook Air 13 M1 Retina           2999      8   \n",
       "23      Apple MacBook Air 13 M2 Retina           4499      8   \n",
       "29                       Acer Aspire 5           1999      8   \n",
       "..                                 ...            ...    ...   \n",
       "452                    HP 15s-fq5038nx           1899      8   \n",
       "453                Dell Vostro 15 3520           2899      8   \n",
       "454  Asus Vivobook Go 15 E1504GA-NJ255           1149      8   \n",
       "455                MacBook Air M1 2020           2699      8   \n",
       "456              IdeaPad Slim 5 14Q8X9           3699     16   \n",
       "\n",
       "     Storage_Capacity_GB       Storage_Type  \n",
       "7                  256.0                SSD  \n",
       "11                 512.0  PCIe NVMe M.2 SSD  \n",
       "16                 256.0                SSD  \n",
       "23                 256.0                SSD  \n",
       "29                 512.0  PCIe NVMe M.2 SSD  \n",
       "..                   ...                ...  \n",
       "452                512.0            SSD M.2  \n",
       "453                512.0            SSD M.2  \n",
       "454                256.0            SSD M.2  \n",
       "455                256.0                SSD  \n",
       "456                512.0            SSD M.2  \n",
       "\n",
       "[205 rows x 5 columns]"
      ]
     },
     "execution_count": 20,
     "metadata": {},
     "output_type": "execute_result"
    }
   ],
   "source": [
    "df_0"
   ]
  },
  {
   "cell_type": "code",
   "execution_count": 21,
   "metadata": {},
   "outputs": [],
   "source": [
    "df_1 = df_1.drop('kmeans', axis=1)  # axis=1 indicates you are dropping a column"
   ]
  },
  {
   "cell_type": "code",
   "execution_count": 22,
   "metadata": {},
   "outputs": [],
   "source": [
    "df_2 = df_2.drop('kmeans', axis=1)  # axis=1 indicates you are dropping a column"
   ]
  },
  {
   "cell_type": "code",
   "execution_count": 23,
   "metadata": {},
   "outputs": [],
   "source": [
    "df_3 = df_3.drop('kmeans', axis=1)  # axis=1 indicates you are dropping a column"
   ]
  },
  {
   "cell_type": "code",
   "execution_count": 24,
   "metadata": {},
   "outputs": [],
   "source": [
    "# Assuming 'df' is your DataFrame\n",
    "df_0.to_csv('df_0.csv', index=False)\n",
    "# Assuming 'df' is your DataFrame\n",
    "df_1.to_csv('df_1.csv', index=False)\n",
    "# Assuming 'df' is your DataFrame\n",
    "df_2.to_csv('df_2.csv', index=False)\n",
    "# Assuming 'df' is your DataFrame\n",
    "df_3.to_csv('df_3.csv', index=False)"
   ]
  },
  {
   "cell_type": "code",
   "execution_count": null,
   "metadata": {},
   "outputs": [],
   "source": []
  }
 ],
 "metadata": {
  "kernelspec": {
   "display_name": "base",
   "language": "python",
   "name": "python3"
  },
  "language_info": {
   "codemirror_mode": {
    "name": "ipython",
    "version": 3
   },
   "file_extension": ".py",
   "mimetype": "text/x-python",
   "name": "python",
   "nbconvert_exporter": "python",
   "pygments_lexer": "ipython3",
   "version": "3.12.4"
  }
 },
 "nbformat": 4,
 "nbformat_minor": 2
}

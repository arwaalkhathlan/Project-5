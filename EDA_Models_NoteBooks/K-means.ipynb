{
 "cells": [
  {
   "cell_type": "code",
   "execution_count": 98,
   "id": "6df265ec-b664-4d45-b7a8-853f98d48ead",
   "metadata": {},
   "outputs": [],
   "source": [
    "import numpy as np\n",
    "import pandas as pd\n",
    "import matplotlib.pyplot as plt\n",
    "import seaborn as sns\n",
    "from scipy.stats import zscore\n",
    "import plotly.express as px\n",
    "import re\n",
    "import sweetviz as sv\n",
    "from sklearn.preprocessing import LabelEncoder\n",
    "\n",
    "from ydata_profiling import ProfileReport\n",
    "from sklearn.model_selection import train_test_split\n",
    "from sklearn.metrics import mean_squared_error, r2_score, mean_absolute_error\n",
    "from sklearn.preprocessing import StandardScaler\n",
    "from sklearn.model_selection import GridSearchCV\n",
    "from sklearn import metrics\n",
    "\n",
    "from sklearn.model_selection import train_test_split, cross_val_score\n",
    "from sklearn.preprocessing import StandardScaler\n",
    "from sklearn.cluster import KMeans\n",
    "from sklearn.preprocessing import LabelEncoder\n",
    "from sklearn import metrics\n",
    "from sklearn.metrics import silhouette_score\n",
    "import warnings\n",
    "warnings.filterwarnings(\"ignore\")\n",
    "from sklearn.cluster import DBSCAN\n",
    "from sklearn.preprocessing import StandardScaler\n",
    "import matplotlib.pyplot as plt\n",
    "%matplotlib inline"
   ]
  },
  {
   "cell_type": "markdown",
   "id": "d455d262-507c-4873-8778-a398306aa616",
   "metadata": {},
   "source": [
    "## reading the data"
   ]
  },
  {
   "cell_type": "code",
   "execution_count": 99,
   "id": "eb7a29b0-38ab-43a8-9a48-813936e17b0d",
   "metadata": {},
   "outputs": [],
   "source": [
    "df = pd.read_csv(\"Data/combined_laptop_data.csv\")"
   ]
  },
  {
   "cell_type": "markdown",
   "id": "9d7eb13a-8d0f-4df0-bec6-2010773b133c",
   "metadata": {},
   "source": [
    "## EDA"
   ]
  },
  {
   "cell_type": "code",
   "execution_count": 100,
   "id": "59f7b460-11d7-4f55-906d-fec3595db86e",
   "metadata": {},
   "outputs": [],
   "source": [
    "# df_combined_numeric = df.select_dtypes(include=['number'])\n",
    "\n",
    "# report = sv.analyze(df_combined_numeric)\n",
    "# report.show_html('report.html')"
   ]
  },
  {
   "cell_type": "code",
   "execution_count": 101,
   "id": "f5b20bf6-854e-4921-adf2-96de3393f3fd",
   "metadata": {},
   "outputs": [
    {
     "data": {
      "text/plain": [
       "Product Name                 0\n",
       "Product Price                0\n",
       "Warranty Period(Months)      0\n",
       "Processor Type               0\n",
       "Screen Size(inch)            0\n",
       "Operating System             0\n",
       "product type                 0\n",
       "Color                        0\n",
       "Storage Capacity             0\n",
       "RAM(GB)                      0\n",
       "Network and Communication    0\n",
       "Touch Display                0\n",
       "Display Resolution           0\n",
       "Battery Type                 0\n",
       "dtype: int64"
      ]
     },
     "execution_count": 101,
     "metadata": {},
     "output_type": "execute_result"
    }
   ],
   "source": [
    "df.isnull().sum().sort_values(ascending=False)"
   ]
  },
  {
   "cell_type": "code",
   "execution_count": 102,
   "id": "b3e022c0-e082-4e6d-a7b4-8dec04aada15",
   "metadata": {},
   "outputs": [
    {
     "data": {
      "text/plain": [
       "0"
      ]
     },
     "execution_count": 102,
     "metadata": {},
     "output_type": "execute_result"
    }
   ],
   "source": [
    "df.duplicated().sum()"
   ]
  },
  {
   "cell_type": "code",
   "execution_count": 103,
   "id": "884ce3c8-f1ae-41b7-84bf-8594941dd09b",
   "metadata": {},
   "outputs": [
    {
     "data": {
      "text/html": [
       "<div>\n",
       "<style scoped>\n",
       "    .dataframe tbody tr th:only-of-type {\n",
       "        vertical-align: middle;\n",
       "    }\n",
       "\n",
       "    .dataframe tbody tr th {\n",
       "        vertical-align: top;\n",
       "    }\n",
       "\n",
       "    .dataframe thead th {\n",
       "        text-align: right;\n",
       "    }\n",
       "</style>\n",
       "<table border=\"1\" class=\"dataframe\">\n",
       "  <thead>\n",
       "    <tr style=\"text-align: right;\">\n",
       "      <th></th>\n",
       "      <th>count</th>\n",
       "      <th>unique</th>\n",
       "      <th>top</th>\n",
       "      <th>freq</th>\n",
       "    </tr>\n",
       "  </thead>\n",
       "  <tbody>\n",
       "    <tr>\n",
       "      <th>Product Name</th>\n",
       "      <td>484</td>\n",
       "      <td>274</td>\n",
       "      <td>Apple MacBook Air 13 M3</td>\n",
       "      <td>18</td>\n",
       "    </tr>\n",
       "    <tr>\n",
       "      <th>Processor Type</th>\n",
       "      <td>484</td>\n",
       "      <td>105</td>\n",
       "      <td>Intel Core i7-1355U (13th Gen)</td>\n",
       "      <td>45</td>\n",
       "    </tr>\n",
       "    <tr>\n",
       "      <th>Operating System</th>\n",
       "      <td>484</td>\n",
       "      <td>14</td>\n",
       "      <td>Dos</td>\n",
       "      <td>184</td>\n",
       "    </tr>\n",
       "    <tr>\n",
       "      <th>product type</th>\n",
       "      <td>484</td>\n",
       "      <td>6</td>\n",
       "      <td>Laptop</td>\n",
       "      <td>186</td>\n",
       "    </tr>\n",
       "    <tr>\n",
       "      <th>Color</th>\n",
       "      <td>484</td>\n",
       "      <td>78</td>\n",
       "      <td>Silver</td>\n",
       "      <td>48</td>\n",
       "    </tr>\n",
       "    <tr>\n",
       "      <th>Storage Capacity</th>\n",
       "      <td>484</td>\n",
       "      <td>35</td>\n",
       "      <td>512GB SSD M.2</td>\n",
       "      <td>158</td>\n",
       "    </tr>\n",
       "    <tr>\n",
       "      <th>Network and Communication</th>\n",
       "      <td>484</td>\n",
       "      <td>38</td>\n",
       "      <td>Wi-Fi/Bluetooth</td>\n",
       "      <td>141</td>\n",
       "    </tr>\n",
       "    <tr>\n",
       "      <th>Touch Display</th>\n",
       "      <td>484</td>\n",
       "      <td>4</td>\n",
       "      <td>False</td>\n",
       "      <td>265</td>\n",
       "    </tr>\n",
       "    <tr>\n",
       "      <th>Display Resolution</th>\n",
       "      <td>484</td>\n",
       "      <td>52</td>\n",
       "      <td>1920x1080</td>\n",
       "      <td>151</td>\n",
       "    </tr>\n",
       "    <tr>\n",
       "      <th>Battery Type</th>\n",
       "      <td>484</td>\n",
       "      <td>59</td>\n",
       "      <td>Lithium Polymer (Li-Po)</td>\n",
       "      <td>98</td>\n",
       "    </tr>\n",
       "  </tbody>\n",
       "</table>\n",
       "</div>"
      ],
      "text/plain": [
       "                          count unique                             top freq\n",
       "Product Name                484    274         Apple MacBook Air 13 M3   18\n",
       "Processor Type              484    105  Intel Core i7-1355U (13th Gen)   45\n",
       "Operating System            484     14                             Dos  184\n",
       "product type                484      6                          Laptop  186\n",
       "Color                       484     78                          Silver   48\n",
       "Storage Capacity            484     35                   512GB SSD M.2  158\n",
       "Network and Communication   484     38                 Wi-Fi/Bluetooth  141\n",
       "Touch Display               484      4                           False  265\n",
       "Display Resolution          484     52                       1920x1080  151\n",
       "Battery Type                484     59         Lithium Polymer (Li-Po)   98"
      ]
     },
     "execution_count": 103,
     "metadata": {},
     "output_type": "execute_result"
    }
   ],
   "source": [
    "df.describe(include='object').T"
   ]
  },
  {
   "cell_type": "code",
   "execution_count": 104,
   "id": "481da5fa-7f06-4133-bd14-7de0a2d28bf7",
   "metadata": {},
   "outputs": [
    {
     "data": {
      "text/html": [
       "<div>\n",
       "<style scoped>\n",
       "    .dataframe tbody tr th:only-of-type {\n",
       "        vertical-align: middle;\n",
       "    }\n",
       "\n",
       "    .dataframe tbody tr th {\n",
       "        vertical-align: top;\n",
       "    }\n",
       "\n",
       "    .dataframe thead th {\n",
       "        text-align: right;\n",
       "    }\n",
       "</style>\n",
       "<table border=\"1\" class=\"dataframe\">\n",
       "  <thead>\n",
       "    <tr style=\"text-align: right;\">\n",
       "      <th></th>\n",
       "      <th>count</th>\n",
       "      <th>mean</th>\n",
       "      <th>std</th>\n",
       "      <th>min</th>\n",
       "      <th>25%</th>\n",
       "      <th>50%</th>\n",
       "      <th>75%</th>\n",
       "      <th>max</th>\n",
       "    </tr>\n",
       "  </thead>\n",
       "  <tbody>\n",
       "    <tr>\n",
       "      <th>Product Price</th>\n",
       "      <td>484.0</td>\n",
       "      <td>4306.944215</td>\n",
       "      <td>2469.442850</td>\n",
       "      <td>799.0</td>\n",
       "      <td>2299.0</td>\n",
       "      <td>3799.0</td>\n",
       "      <td>5999.0</td>\n",
       "      <td>11499.0</td>\n",
       "    </tr>\n",
       "    <tr>\n",
       "      <th>Warranty Period(Months)</th>\n",
       "      <td>484.0</td>\n",
       "      <td>24.278926</td>\n",
       "      <td>4.146725</td>\n",
       "      <td>3.0</td>\n",
       "      <td>24.0</td>\n",
       "      <td>24.0</td>\n",
       "      <td>24.0</td>\n",
       "      <td>60.0</td>\n",
       "    </tr>\n",
       "    <tr>\n",
       "      <th>Screen Size(inch)</th>\n",
       "      <td>484.0</td>\n",
       "      <td>14.827066</td>\n",
       "      <td>1.054082</td>\n",
       "      <td>8.8</td>\n",
       "      <td>14.0</td>\n",
       "      <td>15.3</td>\n",
       "      <td>15.6</td>\n",
       "      <td>17.3</td>\n",
       "    </tr>\n",
       "    <tr>\n",
       "      <th>RAM(GB)</th>\n",
       "      <td>484.0</td>\n",
       "      <td>13.826446</td>\n",
       "      <td>7.183115</td>\n",
       "      <td>4.0</td>\n",
       "      <td>8.0</td>\n",
       "      <td>16.0</td>\n",
       "      <td>16.0</td>\n",
       "      <td>32.0</td>\n",
       "    </tr>\n",
       "  </tbody>\n",
       "</table>\n",
       "</div>"
      ],
      "text/plain": [
       "                         count         mean          std    min     25%  \\\n",
       "Product Price            484.0  4306.944215  2469.442850  799.0  2299.0   \n",
       "Warranty Period(Months)  484.0    24.278926     4.146725    3.0    24.0   \n",
       "Screen Size(inch)        484.0    14.827066     1.054082    8.8    14.0   \n",
       "RAM(GB)                  484.0    13.826446     7.183115    4.0     8.0   \n",
       "\n",
       "                            50%     75%      max  \n",
       "Product Price            3799.0  5999.0  11499.0  \n",
       "Warranty Period(Months)    24.0    24.0     60.0  \n",
       "Screen Size(inch)          15.3    15.6     17.3  \n",
       "RAM(GB)                    16.0    16.0     32.0  "
      ]
     },
     "execution_count": 104,
     "metadata": {},
     "output_type": "execute_result"
    }
   ],
   "source": [
    "df.describe().T"
   ]
  },
  {
   "cell_type": "code",
   "execution_count": 105,
   "id": "3eb0c3ab-b6f0-4048-8ae4-743ae67f3f76",
   "metadata": {},
   "outputs": [
    {
     "data": {
      "text/plain": [
       "(484, 14)"
      ]
     },
     "execution_count": 105,
     "metadata": {},
     "output_type": "execute_result"
    }
   ],
   "source": [
    "df.shape"
   ]
  },
  {
   "cell_type": "markdown",
   "id": "ab9de6f7-94b8-449d-8bac-6e4c019a7828",
   "metadata": {},
   "source": [
    "### outliers"
   ]
  },
  {
   "cell_type": "code",
   "execution_count": 106,
   "id": "75de98a5-93d4-49e1-b2a0-879c2b856923",
   "metadata": {},
   "outputs": [],
   "source": [
    "df = df[df['Screen Size(inch)']> 11]"
   ]
  },
  {
   "cell_type": "code",
   "execution_count": 107,
   "id": "695a53b9-bded-4d90-890a-4ecf63be3e2f",
   "metadata": {},
   "outputs": [
    {
     "data": {
      "text/plain": [
       "(481, 14)"
      ]
     },
     "execution_count": 107,
     "metadata": {},
     "output_type": "execute_result"
    }
   ],
   "source": [
    "df.shape"
   ]
  },
  {
   "cell_type": "markdown",
   "id": "5d5acd95-689c-411d-9f06-d705cfdbe769",
   "metadata": {},
   "source": [
    "### Relevnce "
   ]
  },
  {
   "cell_type": "code",
   "execution_count": 108,
   "id": "6fa52c40-b386-4292-a560-f99c6dbf0cd5",
   "metadata": {},
   "outputs": [
    {
     "data": {
      "text/html": [
       "<div>\n",
       "<style scoped>\n",
       "    .dataframe tbody tr th:only-of-type {\n",
       "        vertical-align: middle;\n",
       "    }\n",
       "\n",
       "    .dataframe tbody tr th {\n",
       "        vertical-align: top;\n",
       "    }\n",
       "\n",
       "    .dataframe thead th {\n",
       "        text-align: right;\n",
       "    }\n",
       "</style>\n",
       "<table border=\"1\" class=\"dataframe\">\n",
       "  <thead>\n",
       "    <tr style=\"text-align: right;\">\n",
       "      <th></th>\n",
       "      <th>Product Name</th>\n",
       "      <th>Product Price</th>\n",
       "      <th>Warranty Period(Months)</th>\n",
       "      <th>Processor Type</th>\n",
       "      <th>Screen Size(inch)</th>\n",
       "      <th>Operating System</th>\n",
       "      <th>product type</th>\n",
       "      <th>Color</th>\n",
       "      <th>Storage Capacity</th>\n",
       "      <th>RAM(GB)</th>\n",
       "      <th>Network and Communication</th>\n",
       "      <th>Touch Display</th>\n",
       "      <th>Display Resolution</th>\n",
       "      <th>Battery Type</th>\n",
       "    </tr>\n",
       "  </thead>\n",
       "  <tbody>\n",
       "    <tr>\n",
       "      <th>0</th>\n",
       "      <td>Huawei MateBook 14</td>\n",
       "      <td>4299</td>\n",
       "      <td>24.0</td>\n",
       "      <td>Intel Core Ultra 5 125H</td>\n",
       "      <td>14.2</td>\n",
       "      <td>Windows 11 Home</td>\n",
       "      <td>Laptop</td>\n",
       "      <td>Space Grey</td>\n",
       "      <td>1 TB M.2 NVMe PCIe 4.0 SSD</td>\n",
       "      <td>16</td>\n",
       "      <td>Wi-Fi (6)/Bluetooth (5.1)</td>\n",
       "      <td>Yes</td>\n",
       "      <td>2880 X 1920</td>\n",
       "      <td>Lithium Polymer (Li-Po)</td>\n",
       "    </tr>\n",
       "    <tr>\n",
       "      <th>1</th>\n",
       "      <td>Apple MacBook Air 15 M3</td>\n",
       "      <td>5999</td>\n",
       "      <td>24.0</td>\n",
       "      <td>M3 8-core CPU</td>\n",
       "      <td>15.3</td>\n",
       "      <td>macOS Sequoia</td>\n",
       "      <td>Laptop</td>\n",
       "      <td>Space Grey</td>\n",
       "      <td>256 GB SSD</td>\n",
       "      <td>16</td>\n",
       "      <td>Wi-Fi/Bluetooth</td>\n",
       "      <td>No</td>\n",
       "      <td>2880 X 1864</td>\n",
       "      <td>Lithium Polymer (Li-Po)</td>\n",
       "    </tr>\n",
       "    <tr>\n",
       "      <th>2</th>\n",
       "      <td>Apple MacBook Air 15 M3</td>\n",
       "      <td>5999</td>\n",
       "      <td>24.0</td>\n",
       "      <td>M3 8-core CPU</td>\n",
       "      <td>15.3</td>\n",
       "      <td>macOS Sonoma</td>\n",
       "      <td>Laptop</td>\n",
       "      <td>Starlight</td>\n",
       "      <td>256 GB SSD</td>\n",
       "      <td>8</td>\n",
       "      <td>Wi-Fi/Bluetooth</td>\n",
       "      <td>No</td>\n",
       "      <td>2880 X 1864</td>\n",
       "      <td>Lithium Polymer (Li-Po)</td>\n",
       "    </tr>\n",
       "    <tr>\n",
       "      <th>3</th>\n",
       "      <td>Asus</td>\n",
       "      <td>3799</td>\n",
       "      <td>24.0</td>\n",
       "      <td>AMD Ryzen 7-8840HS</td>\n",
       "      <td>14.0</td>\n",
       "      <td>Windows 11</td>\n",
       "      <td>Laptop</td>\n",
       "      <td>Jade Black</td>\n",
       "      <td>1 TB M.2 NVMe PCIe 4.0 SSD</td>\n",
       "      <td>16</td>\n",
       "      <td>Wi-Fi/Bluetooth</td>\n",
       "      <td>No</td>\n",
       "      <td>1920 X 1200 (WUXGA)</td>\n",
       "      <td>Lithium Ion (Li-Ion) - 4 Cell</td>\n",
       "    </tr>\n",
       "    <tr>\n",
       "      <th>4</th>\n",
       "      <td>Microsoft Surface  7</td>\n",
       "      <td>9699</td>\n",
       "      <td>24.0</td>\n",
       "      <td>Snapdragon X Elite 12 Core</td>\n",
       "      <td>15.0</td>\n",
       "      <td>Windows 11 Home</td>\n",
       "      <td>Laptop</td>\n",
       "      <td>Black</td>\n",
       "      <td>1 TB SSD</td>\n",
       "      <td>32</td>\n",
       "      <td>Wi-Fi (7)/Bluetooth (5.4)</td>\n",
       "      <td>Yes</td>\n",
       "      <td>2496 x 1664</td>\n",
       "      <td>Lithium Ion (Li-Ion) - 6 Cell</td>\n",
       "    </tr>\n",
       "  </tbody>\n",
       "</table>\n",
       "</div>"
      ],
      "text/plain": [
       "              Product Name  Product Price  Warranty Period(Months)  \\\n",
       "0       Huawei MateBook 14           4299                     24.0   \n",
       "1  Apple MacBook Air 15 M3           5999                     24.0   \n",
       "2  Apple MacBook Air 15 M3           5999                     24.0   \n",
       "3                     Asus           3799                     24.0   \n",
       "4     Microsoft Surface  7           9699                     24.0   \n",
       "\n",
       "               Processor Type  Screen Size(inch) Operating System  \\\n",
       "0     Intel Core Ultra 5 125H               14.2  Windows 11 Home   \n",
       "1               M3 8-core CPU               15.3    macOS Sequoia   \n",
       "2               M3 8-core CPU               15.3     macOS Sonoma   \n",
       "3          AMD Ryzen 7-8840HS               14.0       Windows 11   \n",
       "4  Snapdragon X Elite 12 Core               15.0  Windows 11 Home   \n",
       "\n",
       "  product type       Color            Storage Capacity  RAM(GB)  \\\n",
       "0       Laptop  Space Grey  1 TB M.2 NVMe PCIe 4.0 SSD       16   \n",
       "1       Laptop  Space Grey                  256 GB SSD       16   \n",
       "2       Laptop   Starlight                  256 GB SSD        8   \n",
       "3       Laptop  Jade Black  1 TB M.2 NVMe PCIe 4.0 SSD       16   \n",
       "4       Laptop       Black                    1 TB SSD       32   \n",
       "\n",
       "   Network and Communication Touch Display   Display Resolution  \\\n",
       "0  Wi-Fi (6)/Bluetooth (5.1)           Yes          2880 X 1920   \n",
       "1            Wi-Fi/Bluetooth            No          2880 X 1864   \n",
       "2            Wi-Fi/Bluetooth            No          2880 X 1864   \n",
       "3            Wi-Fi/Bluetooth            No  1920 X 1200 (WUXGA)   \n",
       "4  Wi-Fi (7)/Bluetooth (5.4)           Yes          2496 x 1664   \n",
       "\n",
       "                    Battery Type  \n",
       "0        Lithium Polymer (Li-Po)  \n",
       "1        Lithium Polymer (Li-Po)  \n",
       "2        Lithium Polymer (Li-Po)  \n",
       "3  Lithium Ion (Li-Ion) - 4 Cell  \n",
       "4  Lithium Ion (Li-Ion) - 6 Cell  "
      ]
     },
     "execution_count": 108,
     "metadata": {},
     "output_type": "execute_result"
    }
   ],
   "source": [
    "df.head()"
   ]
  },
  {
   "cell_type": "code",
   "execution_count": 109,
   "id": "4f84af9c-ab51-4418-bece-afc6fcdd3e10",
   "metadata": {},
   "outputs": [
    {
     "name": "stdout",
     "output_type": "stream",
     "text": [
      "<class 'pandas.core.frame.DataFrame'>\n",
      "Index: 481 entries, 0 to 483\n",
      "Data columns (total 14 columns):\n",
      " #   Column                     Non-Null Count  Dtype  \n",
      "---  ------                     --------------  -----  \n",
      " 0   Product Name               481 non-null    object \n",
      " 1   Product Price              481 non-null    int64  \n",
      " 2   Warranty Period(Months)    481 non-null    float64\n",
      " 3   Processor Type             481 non-null    object \n",
      " 4   Screen Size(inch)          481 non-null    float64\n",
      " 5   Operating System           481 non-null    object \n",
      " 6   product type               481 non-null    object \n",
      " 7   Color                      481 non-null    object \n",
      " 8   Storage Capacity           481 non-null    object \n",
      " 9   RAM(GB)                    481 non-null    int64  \n",
      " 10  Network and Communication  481 non-null    object \n",
      " 11  Touch Display              481 non-null    object \n",
      " 12  Display Resolution         481 non-null    object \n",
      " 13  Battery Type               481 non-null    object \n",
      "dtypes: float64(2), int64(2), object(10)\n",
      "memory usage: 56.4+ KB\n"
     ]
    }
   ],
   "source": [
    "df.info()"
   ]
  },
  {
   "cell_type": "code",
   "execution_count": 110,
   "id": "f5868dd1-6e9c-401d-b265-8aefea997ed1",
   "metadata": {},
   "outputs": [],
   "source": [
    "def clean_storage_capacity(value):\n",
    "    match = re.search(r'(\\d+(\\.\\d+)?)\\s*(TB|GB)', value, re.IGNORECASE)\n",
    "    if match:\n",
    "        size = float(match.group(1))\n",
    "        unit = match.group(3).upper()\n",
    "        if unit == 'TB':\n",
    "            size *= 1024\n",
    "        return size \n",
    "    return None "
   ]
  },
  {
   "cell_type": "code",
   "execution_count": 111,
   "id": "44a8a68c-2c4a-4be7-82c4-4a2429e00e53",
   "metadata": {},
   "outputs": [],
   "source": [
    "def extract_storage_type(value):\n",
    "    match = re.search(r'\\d+(\\.\\d+)?\\s*(TB|GB)\\s*(.*)', value, re.IGNORECASE)\n",
    "    if match:\n",
    "        return match.group(3).strip()\n",
    "    return None "
   ]
  },
  {
   "cell_type": "code",
   "execution_count": 112,
   "id": "35d4f793-f8c5-4130-9c7d-d906879bd7d6",
   "metadata": {},
   "outputs": [],
   "source": [
    "#storage type\n",
    "df['Storage Type'] = df['Storage Capacity'].apply(extract_storage_type)"
   ]
  },
  {
   "cell_type": "code",
   "execution_count": 113,
   "id": "b004117e-8c14-4022-ae53-03ae3cf5bd7f",
   "metadata": {},
   "outputs": [],
   "source": [
    "# Apply the cleaning function\n",
    "df['Storage Capacity (GB)'] = df['Storage Capacity'].apply(clean_storage_capacity)"
   ]
  },
  {
   "cell_type": "code",
   "execution_count": 114,
   "id": "84168bdd-a35d-487e-8900-b5390ae78f16",
   "metadata": {},
   "outputs": [
    {
     "data": {
      "text/html": [
       "<div>\n",
       "<style scoped>\n",
       "    .dataframe tbody tr th:only-of-type {\n",
       "        vertical-align: middle;\n",
       "    }\n",
       "\n",
       "    .dataframe tbody tr th {\n",
       "        vertical-align: top;\n",
       "    }\n",
       "\n",
       "    .dataframe thead th {\n",
       "        text-align: right;\n",
       "    }\n",
       "</style>\n",
       "<table border=\"1\" class=\"dataframe\">\n",
       "  <thead>\n",
       "    <tr style=\"text-align: right;\">\n",
       "      <th></th>\n",
       "      <th>Product Name</th>\n",
       "      <th>Product Price</th>\n",
       "      <th>Warranty Period(Months)</th>\n",
       "      <th>Processor Type</th>\n",
       "      <th>Screen Size(inch)</th>\n",
       "      <th>Operating System</th>\n",
       "      <th>product type</th>\n",
       "      <th>Color</th>\n",
       "      <th>Storage Capacity</th>\n",
       "      <th>RAM(GB)</th>\n",
       "      <th>Network and Communication</th>\n",
       "      <th>Touch Display</th>\n",
       "      <th>Display Resolution</th>\n",
       "      <th>Battery Type</th>\n",
       "      <th>Storage Type</th>\n",
       "      <th>Storage Capacity (GB)</th>\n",
       "    </tr>\n",
       "  </thead>\n",
       "  <tbody>\n",
       "    <tr>\n",
       "      <th>0</th>\n",
       "      <td>Huawei MateBook 14</td>\n",
       "      <td>4299</td>\n",
       "      <td>24.0</td>\n",
       "      <td>Intel Core Ultra 5 125H</td>\n",
       "      <td>14.2</td>\n",
       "      <td>Windows 11 Home</td>\n",
       "      <td>Laptop</td>\n",
       "      <td>Space Grey</td>\n",
       "      <td>1 TB M.2 NVMe PCIe 4.0 SSD</td>\n",
       "      <td>16</td>\n",
       "      <td>Wi-Fi (6)/Bluetooth (5.1)</td>\n",
       "      <td>Yes</td>\n",
       "      <td>2880 X 1920</td>\n",
       "      <td>Lithium Polymer (Li-Po)</td>\n",
       "      <td>M.2 NVMe PCIe 4.0 SSD</td>\n",
       "      <td>1024.0</td>\n",
       "    </tr>\n",
       "    <tr>\n",
       "      <th>1</th>\n",
       "      <td>Apple MacBook Air 15 M3</td>\n",
       "      <td>5999</td>\n",
       "      <td>24.0</td>\n",
       "      <td>M3 8-core CPU</td>\n",
       "      <td>15.3</td>\n",
       "      <td>macOS Sequoia</td>\n",
       "      <td>Laptop</td>\n",
       "      <td>Space Grey</td>\n",
       "      <td>256 GB SSD</td>\n",
       "      <td>16</td>\n",
       "      <td>Wi-Fi/Bluetooth</td>\n",
       "      <td>No</td>\n",
       "      <td>2880 X 1864</td>\n",
       "      <td>Lithium Polymer (Li-Po)</td>\n",
       "      <td>SSD</td>\n",
       "      <td>256.0</td>\n",
       "    </tr>\n",
       "    <tr>\n",
       "      <th>2</th>\n",
       "      <td>Apple MacBook Air 15 M3</td>\n",
       "      <td>5999</td>\n",
       "      <td>24.0</td>\n",
       "      <td>M3 8-core CPU</td>\n",
       "      <td>15.3</td>\n",
       "      <td>macOS Sonoma</td>\n",
       "      <td>Laptop</td>\n",
       "      <td>Starlight</td>\n",
       "      <td>256 GB SSD</td>\n",
       "      <td>8</td>\n",
       "      <td>Wi-Fi/Bluetooth</td>\n",
       "      <td>No</td>\n",
       "      <td>2880 X 1864</td>\n",
       "      <td>Lithium Polymer (Li-Po)</td>\n",
       "      <td>SSD</td>\n",
       "      <td>256.0</td>\n",
       "    </tr>\n",
       "    <tr>\n",
       "      <th>3</th>\n",
       "      <td>Asus</td>\n",
       "      <td>3799</td>\n",
       "      <td>24.0</td>\n",
       "      <td>AMD Ryzen 7-8840HS</td>\n",
       "      <td>14.0</td>\n",
       "      <td>Windows 11</td>\n",
       "      <td>Laptop</td>\n",
       "      <td>Jade Black</td>\n",
       "      <td>1 TB M.2 NVMe PCIe 4.0 SSD</td>\n",
       "      <td>16</td>\n",
       "      <td>Wi-Fi/Bluetooth</td>\n",
       "      <td>No</td>\n",
       "      <td>1920 X 1200 (WUXGA)</td>\n",
       "      <td>Lithium Ion (Li-Ion) - 4 Cell</td>\n",
       "      <td>M.2 NVMe PCIe 4.0 SSD</td>\n",
       "      <td>1024.0</td>\n",
       "    </tr>\n",
       "    <tr>\n",
       "      <th>4</th>\n",
       "      <td>Microsoft Surface  7</td>\n",
       "      <td>9699</td>\n",
       "      <td>24.0</td>\n",
       "      <td>Snapdragon X Elite 12 Core</td>\n",
       "      <td>15.0</td>\n",
       "      <td>Windows 11 Home</td>\n",
       "      <td>Laptop</td>\n",
       "      <td>Black</td>\n",
       "      <td>1 TB SSD</td>\n",
       "      <td>32</td>\n",
       "      <td>Wi-Fi (7)/Bluetooth (5.4)</td>\n",
       "      <td>Yes</td>\n",
       "      <td>2496 x 1664</td>\n",
       "      <td>Lithium Ion (Li-Ion) - 6 Cell</td>\n",
       "      <td>SSD</td>\n",
       "      <td>1024.0</td>\n",
       "    </tr>\n",
       "  </tbody>\n",
       "</table>\n",
       "</div>"
      ],
      "text/plain": [
       "              Product Name  Product Price  Warranty Period(Months)  \\\n",
       "0       Huawei MateBook 14           4299                     24.0   \n",
       "1  Apple MacBook Air 15 M3           5999                     24.0   \n",
       "2  Apple MacBook Air 15 M3           5999                     24.0   \n",
       "3                     Asus           3799                     24.0   \n",
       "4     Microsoft Surface  7           9699                     24.0   \n",
       "\n",
       "               Processor Type  Screen Size(inch) Operating System  \\\n",
       "0     Intel Core Ultra 5 125H               14.2  Windows 11 Home   \n",
       "1               M3 8-core CPU               15.3    macOS Sequoia   \n",
       "2               M3 8-core CPU               15.3     macOS Sonoma   \n",
       "3          AMD Ryzen 7-8840HS               14.0       Windows 11   \n",
       "4  Snapdragon X Elite 12 Core               15.0  Windows 11 Home   \n",
       "\n",
       "  product type       Color            Storage Capacity  RAM(GB)  \\\n",
       "0       Laptop  Space Grey  1 TB M.2 NVMe PCIe 4.0 SSD       16   \n",
       "1       Laptop  Space Grey                  256 GB SSD       16   \n",
       "2       Laptop   Starlight                  256 GB SSD        8   \n",
       "3       Laptop  Jade Black  1 TB M.2 NVMe PCIe 4.0 SSD       16   \n",
       "4       Laptop       Black                    1 TB SSD       32   \n",
       "\n",
       "   Network and Communication Touch Display   Display Resolution  \\\n",
       "0  Wi-Fi (6)/Bluetooth (5.1)           Yes          2880 X 1920   \n",
       "1            Wi-Fi/Bluetooth            No          2880 X 1864   \n",
       "2            Wi-Fi/Bluetooth            No          2880 X 1864   \n",
       "3            Wi-Fi/Bluetooth            No  1920 X 1200 (WUXGA)   \n",
       "4  Wi-Fi (7)/Bluetooth (5.4)           Yes          2496 x 1664   \n",
       "\n",
       "                    Battery Type           Storage Type  Storage Capacity (GB)  \n",
       "0        Lithium Polymer (Li-Po)  M.2 NVMe PCIe 4.0 SSD                 1024.0  \n",
       "1        Lithium Polymer (Li-Po)                    SSD                  256.0  \n",
       "2        Lithium Polymer (Li-Po)                    SSD                  256.0  \n",
       "3  Lithium Ion (Li-Ion) - 4 Cell  M.2 NVMe PCIe 4.0 SSD                 1024.0  \n",
       "4  Lithium Ion (Li-Ion) - 6 Cell                    SSD                 1024.0  "
      ]
     },
     "execution_count": 114,
     "metadata": {},
     "output_type": "execute_result"
    }
   ],
   "source": [
    "df.head()"
   ]
  },
  {
   "cell_type": "code",
   "execution_count": 115,
   "id": "c1e384c4-cff4-4e56-abf9-a3f39e3008fe",
   "metadata": {},
   "outputs": [],
   "source": [
    "# from ydata_profiling import ProfileReport\n",
    "# profile=ProfileReport(df,title='laptops')\n",
    "# profile.to_notebook_iframe()"
   ]
  },
  {
   "cell_type": "code",
   "execution_count": 116,
   "id": "232e50a9-6e68-47e0-92d9-5f4ffb8958ab",
   "metadata": {},
   "outputs": [],
   "source": [
    "df.drop(columns= 'product type', inplace=True)\n",
    "df.drop(columns= 'Storage Capacity', inplace=True)\n",
    "df.drop(columns= 'Network and Communication', inplace=True)"
   ]
  },
  {
   "cell_type": "code",
   "execution_count": 117,
   "id": "57360302-09ae-45ea-844e-1f876b990c1c",
   "metadata": {},
   "outputs": [
    {
     "data": {
      "text/html": [
       "<div>\n",
       "<style scoped>\n",
       "    .dataframe tbody tr th:only-of-type {\n",
       "        vertical-align: middle;\n",
       "    }\n",
       "\n",
       "    .dataframe tbody tr th {\n",
       "        vertical-align: top;\n",
       "    }\n",
       "\n",
       "    .dataframe thead th {\n",
       "        text-align: right;\n",
       "    }\n",
       "</style>\n",
       "<table border=\"1\" class=\"dataframe\">\n",
       "  <thead>\n",
       "    <tr style=\"text-align: right;\">\n",
       "      <th></th>\n",
       "      <th>Product Name</th>\n",
       "      <th>Product Price</th>\n",
       "      <th>Warranty Period(Months)</th>\n",
       "      <th>Processor Type</th>\n",
       "      <th>Screen Size(inch)</th>\n",
       "      <th>Operating System</th>\n",
       "      <th>Color</th>\n",
       "      <th>RAM(GB)</th>\n",
       "      <th>Touch Display</th>\n",
       "      <th>Display Resolution</th>\n",
       "      <th>Battery Type</th>\n",
       "      <th>Storage Type</th>\n",
       "      <th>Storage Capacity (GB)</th>\n",
       "    </tr>\n",
       "  </thead>\n",
       "  <tbody>\n",
       "    <tr>\n",
       "      <th>0</th>\n",
       "      <td>Huawei MateBook 14</td>\n",
       "      <td>4299</td>\n",
       "      <td>24.0</td>\n",
       "      <td>Intel Core Ultra 5 125H</td>\n",
       "      <td>14.2</td>\n",
       "      <td>Windows 11 Home</td>\n",
       "      <td>Space Grey</td>\n",
       "      <td>16</td>\n",
       "      <td>Yes</td>\n",
       "      <td>2880 X 1920</td>\n",
       "      <td>Lithium Polymer (Li-Po)</td>\n",
       "      <td>M.2 NVMe PCIe 4.0 SSD</td>\n",
       "      <td>1024.0</td>\n",
       "    </tr>\n",
       "    <tr>\n",
       "      <th>1</th>\n",
       "      <td>Apple MacBook Air 15 M3</td>\n",
       "      <td>5999</td>\n",
       "      <td>24.0</td>\n",
       "      <td>M3 8-core CPU</td>\n",
       "      <td>15.3</td>\n",
       "      <td>macOS Sequoia</td>\n",
       "      <td>Space Grey</td>\n",
       "      <td>16</td>\n",
       "      <td>No</td>\n",
       "      <td>2880 X 1864</td>\n",
       "      <td>Lithium Polymer (Li-Po)</td>\n",
       "      <td>SSD</td>\n",
       "      <td>256.0</td>\n",
       "    </tr>\n",
       "    <tr>\n",
       "      <th>2</th>\n",
       "      <td>Apple MacBook Air 15 M3</td>\n",
       "      <td>5999</td>\n",
       "      <td>24.0</td>\n",
       "      <td>M3 8-core CPU</td>\n",
       "      <td>15.3</td>\n",
       "      <td>macOS Sonoma</td>\n",
       "      <td>Starlight</td>\n",
       "      <td>8</td>\n",
       "      <td>No</td>\n",
       "      <td>2880 X 1864</td>\n",
       "      <td>Lithium Polymer (Li-Po)</td>\n",
       "      <td>SSD</td>\n",
       "      <td>256.0</td>\n",
       "    </tr>\n",
       "    <tr>\n",
       "      <th>3</th>\n",
       "      <td>Asus</td>\n",
       "      <td>3799</td>\n",
       "      <td>24.0</td>\n",
       "      <td>AMD Ryzen 7-8840HS</td>\n",
       "      <td>14.0</td>\n",
       "      <td>Windows 11</td>\n",
       "      <td>Jade Black</td>\n",
       "      <td>16</td>\n",
       "      <td>No</td>\n",
       "      <td>1920 X 1200 (WUXGA)</td>\n",
       "      <td>Lithium Ion (Li-Ion) - 4 Cell</td>\n",
       "      <td>M.2 NVMe PCIe 4.0 SSD</td>\n",
       "      <td>1024.0</td>\n",
       "    </tr>\n",
       "    <tr>\n",
       "      <th>4</th>\n",
       "      <td>Microsoft Surface  7</td>\n",
       "      <td>9699</td>\n",
       "      <td>24.0</td>\n",
       "      <td>Snapdragon X Elite 12 Core</td>\n",
       "      <td>15.0</td>\n",
       "      <td>Windows 11 Home</td>\n",
       "      <td>Black</td>\n",
       "      <td>32</td>\n",
       "      <td>Yes</td>\n",
       "      <td>2496 x 1664</td>\n",
       "      <td>Lithium Ion (Li-Ion) - 6 Cell</td>\n",
       "      <td>SSD</td>\n",
       "      <td>1024.0</td>\n",
       "    </tr>\n",
       "  </tbody>\n",
       "</table>\n",
       "</div>"
      ],
      "text/plain": [
       "              Product Name  Product Price  Warranty Period(Months)  \\\n",
       "0       Huawei MateBook 14           4299                     24.0   \n",
       "1  Apple MacBook Air 15 M3           5999                     24.0   \n",
       "2  Apple MacBook Air 15 M3           5999                     24.0   \n",
       "3                     Asus           3799                     24.0   \n",
       "4     Microsoft Surface  7           9699                     24.0   \n",
       "\n",
       "               Processor Type  Screen Size(inch) Operating System       Color  \\\n",
       "0     Intel Core Ultra 5 125H               14.2  Windows 11 Home  Space Grey   \n",
       "1               M3 8-core CPU               15.3    macOS Sequoia  Space Grey   \n",
       "2               M3 8-core CPU               15.3     macOS Sonoma   Starlight   \n",
       "3          AMD Ryzen 7-8840HS               14.0       Windows 11  Jade Black   \n",
       "4  Snapdragon X Elite 12 Core               15.0  Windows 11 Home       Black   \n",
       "\n",
       "   RAM(GB) Touch Display   Display Resolution                   Battery Type  \\\n",
       "0       16           Yes          2880 X 1920        Lithium Polymer (Li-Po)   \n",
       "1       16            No          2880 X 1864        Lithium Polymer (Li-Po)   \n",
       "2        8            No          2880 X 1864        Lithium Polymer (Li-Po)   \n",
       "3       16            No  1920 X 1200 (WUXGA)  Lithium Ion (Li-Ion) - 4 Cell   \n",
       "4       32           Yes          2496 x 1664  Lithium Ion (Li-Ion) - 6 Cell   \n",
       "\n",
       "            Storage Type  Storage Capacity (GB)  \n",
       "0  M.2 NVMe PCIe 4.0 SSD                 1024.0  \n",
       "1                    SSD                  256.0  \n",
       "2                    SSD                  256.0  \n",
       "3  M.2 NVMe PCIe 4.0 SSD                 1024.0  \n",
       "4                    SSD                 1024.0  "
      ]
     },
     "execution_count": 117,
     "metadata": {},
     "output_type": "execute_result"
    }
   ],
   "source": [
    "df.head()"
   ]
  },
  {
   "cell_type": "code",
   "execution_count": 118,
   "id": "f6ccac7d-e88d-48d9-ba93-d37b92925a60",
   "metadata": {},
   "outputs": [
    {
     "data": {
      "text/plain": [
       "Touch Display\n",
       "False    265\n",
       "No       165\n",
       "True      29\n",
       "Yes       22\n",
       "Name: count, dtype: int64"
      ]
     },
     "execution_count": 118,
     "metadata": {},
     "output_type": "execute_result"
    }
   ],
   "source": [
    "df['Touch Display'].value_counts()"
   ]
  },
  {
   "cell_type": "code",
   "execution_count": 119,
   "id": "13d7af96-3d83-4463-8ab6-a66a40664cb0",
   "metadata": {},
   "outputs": [],
   "source": [
    "df['Touch Display'] = df['Touch Display'].apply(lambda x: True if str(x).lower() in ['yes', 'true'] else False)"
   ]
  },
  {
   "cell_type": "code",
   "execution_count": 120,
   "id": "16c26c9f-1221-4138-8287-3867553a7fd3",
   "metadata": {},
   "outputs": [
    {
     "data": {
      "text/plain": [
       "Touch Display\n",
       "False    430\n",
       "True      51\n",
       "Name: count, dtype: int64"
      ]
     },
     "execution_count": 120,
     "metadata": {},
     "output_type": "execute_result"
    }
   ],
   "source": [
    "df['Touch Display'].value_counts()"
   ]
  },
  {
   "cell_type": "code",
   "execution_count": 121,
   "id": "d12c2bde-8246-40f3-9f99-e5c97b315977",
   "metadata": {},
   "outputs": [],
   "source": [
    "def process_resolution(value):\n",
    "    match = re.search(r'(\\d+)\\s*[xX×]\\s*(\\d+)', value)\n",
    "    if match:\n",
    "        width = int(match.group(1))\n",
    "        height = int(match.group(2))\n",
    "        return pd.Series([width, height])\n",
    "    return pd.Series([None, None])"
   ]
  },
  {
   "cell_type": "code",
   "execution_count": 122,
   "id": "aa6ee186-b2c0-4b7b-bb25-b3467e879161",
   "metadata": {},
   "outputs": [],
   "source": [
    "df[['Pixels Width', 'Pixels Height']] = df['Display Resolution'].apply(process_resolution)"
   ]
  },
  {
   "cell_type": "code",
   "execution_count": 123,
   "id": "3c425c5a-fe0d-4c30-939f-3b502a489c7a",
   "metadata": {},
   "outputs": [
    {
     "data": {
      "text/html": [
       "<div>\n",
       "<style scoped>\n",
       "    .dataframe tbody tr th:only-of-type {\n",
       "        vertical-align: middle;\n",
       "    }\n",
       "\n",
       "    .dataframe tbody tr th {\n",
       "        vertical-align: top;\n",
       "    }\n",
       "\n",
       "    .dataframe thead th {\n",
       "        text-align: right;\n",
       "    }\n",
       "</style>\n",
       "<table border=\"1\" class=\"dataframe\">\n",
       "  <thead>\n",
       "    <tr style=\"text-align: right;\">\n",
       "      <th></th>\n",
       "      <th>Product Name</th>\n",
       "      <th>Product Price</th>\n",
       "      <th>Warranty Period(Months)</th>\n",
       "      <th>Processor Type</th>\n",
       "      <th>Screen Size(inch)</th>\n",
       "      <th>Operating System</th>\n",
       "      <th>Color</th>\n",
       "      <th>RAM(GB)</th>\n",
       "      <th>Touch Display</th>\n",
       "      <th>Display Resolution</th>\n",
       "      <th>Battery Type</th>\n",
       "      <th>Storage Type</th>\n",
       "      <th>Storage Capacity (GB)</th>\n",
       "      <th>Pixels Width</th>\n",
       "      <th>Pixels Height</th>\n",
       "    </tr>\n",
       "  </thead>\n",
       "  <tbody>\n",
       "    <tr>\n",
       "      <th>0</th>\n",
       "      <td>Huawei MateBook 14</td>\n",
       "      <td>4299</td>\n",
       "      <td>24.0</td>\n",
       "      <td>Intel Core Ultra 5 125H</td>\n",
       "      <td>14.2</td>\n",
       "      <td>Windows 11 Home</td>\n",
       "      <td>Space Grey</td>\n",
       "      <td>16</td>\n",
       "      <td>True</td>\n",
       "      <td>2880 X 1920</td>\n",
       "      <td>Lithium Polymer (Li-Po)</td>\n",
       "      <td>M.2 NVMe PCIe 4.0 SSD</td>\n",
       "      <td>1024.0</td>\n",
       "      <td>2880</td>\n",
       "      <td>1920</td>\n",
       "    </tr>\n",
       "    <tr>\n",
       "      <th>1</th>\n",
       "      <td>Apple MacBook Air 15 M3</td>\n",
       "      <td>5999</td>\n",
       "      <td>24.0</td>\n",
       "      <td>M3 8-core CPU</td>\n",
       "      <td>15.3</td>\n",
       "      <td>macOS Sequoia</td>\n",
       "      <td>Space Grey</td>\n",
       "      <td>16</td>\n",
       "      <td>False</td>\n",
       "      <td>2880 X 1864</td>\n",
       "      <td>Lithium Polymer (Li-Po)</td>\n",
       "      <td>SSD</td>\n",
       "      <td>256.0</td>\n",
       "      <td>2880</td>\n",
       "      <td>1864</td>\n",
       "    </tr>\n",
       "    <tr>\n",
       "      <th>2</th>\n",
       "      <td>Apple MacBook Air 15 M3</td>\n",
       "      <td>5999</td>\n",
       "      <td>24.0</td>\n",
       "      <td>M3 8-core CPU</td>\n",
       "      <td>15.3</td>\n",
       "      <td>macOS Sonoma</td>\n",
       "      <td>Starlight</td>\n",
       "      <td>8</td>\n",
       "      <td>False</td>\n",
       "      <td>2880 X 1864</td>\n",
       "      <td>Lithium Polymer (Li-Po)</td>\n",
       "      <td>SSD</td>\n",
       "      <td>256.0</td>\n",
       "      <td>2880</td>\n",
       "      <td>1864</td>\n",
       "    </tr>\n",
       "    <tr>\n",
       "      <th>3</th>\n",
       "      <td>Asus</td>\n",
       "      <td>3799</td>\n",
       "      <td>24.0</td>\n",
       "      <td>AMD Ryzen 7-8840HS</td>\n",
       "      <td>14.0</td>\n",
       "      <td>Windows 11</td>\n",
       "      <td>Jade Black</td>\n",
       "      <td>16</td>\n",
       "      <td>False</td>\n",
       "      <td>1920 X 1200 (WUXGA)</td>\n",
       "      <td>Lithium Ion (Li-Ion) - 4 Cell</td>\n",
       "      <td>M.2 NVMe PCIe 4.0 SSD</td>\n",
       "      <td>1024.0</td>\n",
       "      <td>1920</td>\n",
       "      <td>1200</td>\n",
       "    </tr>\n",
       "    <tr>\n",
       "      <th>4</th>\n",
       "      <td>Microsoft Surface  7</td>\n",
       "      <td>9699</td>\n",
       "      <td>24.0</td>\n",
       "      <td>Snapdragon X Elite 12 Core</td>\n",
       "      <td>15.0</td>\n",
       "      <td>Windows 11 Home</td>\n",
       "      <td>Black</td>\n",
       "      <td>32</td>\n",
       "      <td>True</td>\n",
       "      <td>2496 x 1664</td>\n",
       "      <td>Lithium Ion (Li-Ion) - 6 Cell</td>\n",
       "      <td>SSD</td>\n",
       "      <td>1024.0</td>\n",
       "      <td>2496</td>\n",
       "      <td>1664</td>\n",
       "    </tr>\n",
       "  </tbody>\n",
       "</table>\n",
       "</div>"
      ],
      "text/plain": [
       "              Product Name  Product Price  Warranty Period(Months)  \\\n",
       "0       Huawei MateBook 14           4299                     24.0   \n",
       "1  Apple MacBook Air 15 M3           5999                     24.0   \n",
       "2  Apple MacBook Air 15 M3           5999                     24.0   \n",
       "3                     Asus           3799                     24.0   \n",
       "4     Microsoft Surface  7           9699                     24.0   \n",
       "\n",
       "               Processor Type  Screen Size(inch) Operating System       Color  \\\n",
       "0     Intel Core Ultra 5 125H               14.2  Windows 11 Home  Space Grey   \n",
       "1               M3 8-core CPU               15.3    macOS Sequoia  Space Grey   \n",
       "2               M3 8-core CPU               15.3     macOS Sonoma   Starlight   \n",
       "3          AMD Ryzen 7-8840HS               14.0       Windows 11  Jade Black   \n",
       "4  Snapdragon X Elite 12 Core               15.0  Windows 11 Home       Black   \n",
       "\n",
       "   RAM(GB)  Touch Display   Display Resolution                   Battery Type  \\\n",
       "0       16           True          2880 X 1920        Lithium Polymer (Li-Po)   \n",
       "1       16          False          2880 X 1864        Lithium Polymer (Li-Po)   \n",
       "2        8          False          2880 X 1864        Lithium Polymer (Li-Po)   \n",
       "3       16          False  1920 X 1200 (WUXGA)  Lithium Ion (Li-Ion) - 4 Cell   \n",
       "4       32           True          2496 x 1664  Lithium Ion (Li-Ion) - 6 Cell   \n",
       "\n",
       "            Storage Type  Storage Capacity (GB)  Pixels Width  Pixels Height  \n",
       "0  M.2 NVMe PCIe 4.0 SSD                 1024.0          2880           1920  \n",
       "1                    SSD                  256.0          2880           1864  \n",
       "2                    SSD                  256.0          2880           1864  \n",
       "3  M.2 NVMe PCIe 4.0 SSD                 1024.0          1920           1200  \n",
       "4                    SSD                 1024.0          2496           1664  "
      ]
     },
     "execution_count": 123,
     "metadata": {},
     "output_type": "execute_result"
    }
   ],
   "source": [
    "df.head()"
   ]
  },
  {
   "cell_type": "code",
   "execution_count": 124,
   "id": "4bbdcf03-1ae1-414b-99a2-c07c9e44c55a",
   "metadata": {},
   "outputs": [
    {
     "name": "stdout",
     "output_type": "stream",
     "text": [
      "<class 'pandas.core.frame.DataFrame'>\n",
      "Index: 481 entries, 0 to 483\n",
      "Data columns (total 15 columns):\n",
      " #   Column                   Non-Null Count  Dtype  \n",
      "---  ------                   --------------  -----  \n",
      " 0   Product Name             481 non-null    object \n",
      " 1   Product Price            481 non-null    int64  \n",
      " 2   Warranty Period(Months)  481 non-null    float64\n",
      " 3   Processor Type           481 non-null    object \n",
      " 4   Screen Size(inch)        481 non-null    float64\n",
      " 5   Operating System         481 non-null    object \n",
      " 6   Color                    481 non-null    object \n",
      " 7   RAM(GB)                  481 non-null    int64  \n",
      " 8   Touch Display            481 non-null    bool   \n",
      " 9   Display Resolution       481 non-null    object \n",
      " 10  Battery Type             481 non-null    object \n",
      " 11  Storage Type             481 non-null    object \n",
      " 12  Storage Capacity (GB)    481 non-null    float64\n",
      " 13  Pixels Width             481 non-null    int64  \n",
      " 14  Pixels Height            481 non-null    int64  \n",
      "dtypes: bool(1), float64(3), int64(4), object(7)\n",
      "memory usage: 56.8+ KB\n"
     ]
    }
   ],
   "source": [
    "df.info()"
   ]
  },
  {
   "cell_type": "markdown",
   "id": "83dee165-c1fd-457e-b16f-eb4636196847",
   "metadata": {},
   "source": [
    "## preprossing for model"
   ]
  },
  {
   "cell_type": "code",
   "execution_count": 125,
   "id": "b0acc796-117f-40c7-b623-aa98a15eeaa2",
   "metadata": {},
   "outputs": [],
   "source": [
    "label_encoder = LabelEncoder()\n",
    "df['Processor_Type_encoded'] = label_encoder.fit_transform(df['Processor Type'])\n",
    "df['Operating_System_encoded'] = label_encoder.fit_transform(df['Operating System'])\n",
    "df['Color_encoded'] = label_encoder.fit_transform(df['Color'])\n",
    "df['Display_Resolution_encoded'] = label_encoder.fit_transform(df['Display Resolution'])\n",
    "df['Battery_Type_encoded'] = label_encoder.fit_transform(df['Battery Type'])\n",
    "df['Storage_Type_encoded'] = label_encoder.fit_transform(df['Storage Type'])"
   ]
  },
  {
   "cell_type": "code",
   "execution_count": 126,
   "id": "86d5c3a4-6edc-4667-8617-43f63e2e1575",
   "metadata": {},
   "outputs": [],
   "source": [
    "df['Product_Name_encoded'] = label_encoder.fit_transform(df['Product Name'])"
   ]
  },
  {
   "cell_type": "code",
   "execution_count": 127,
   "id": "d35ba28b-ff20-41bd-be2d-6e335b6a7723",
   "metadata": {},
   "outputs": [
    {
     "data": {
      "text/plain": [
       "Product Name                   object\n",
       "Product Price                   int64\n",
       "Warranty Period(Months)       float64\n",
       "Processor Type                 object\n",
       "Screen Size(inch)             float64\n",
       "Operating System               object\n",
       "Color                          object\n",
       "RAM(GB)                         int64\n",
       "Touch Display                    bool\n",
       "Display Resolution             object\n",
       "Battery Type                   object\n",
       "Storage Type                   object\n",
       "Storage Capacity (GB)         float64\n",
       "Pixels Width                    int64\n",
       "Pixels Height                   int64\n",
       "Processor_Type_encoded          int32\n",
       "Operating_System_encoded        int32\n",
       "Color_encoded                   int32\n",
       "Display_Resolution_encoded      int32\n",
       "Battery_Type_encoded            int32\n",
       "Storage_Type_encoded            int32\n",
       "Product_Name_encoded            int32\n",
       "dtype: object"
      ]
     },
     "execution_count": 127,
     "metadata": {},
     "output_type": "execute_result"
    }
   ],
   "source": [
    "df.dtypes"
   ]
  },
  {
   "cell_type": "code",
   "execution_count": 128,
   "id": "ba6f599e-ba91-42cb-817e-e27d4c2d6232",
   "metadata": {},
   "outputs": [],
   "source": [
    "df_model = df"
   ]
  },
  {
   "cell_type": "code",
   "execution_count": 129,
   "id": "42bad83a-329d-4c9e-a5f8-50de5df76233",
   "metadata": {},
   "outputs": [],
   "source": [
    "df_model.drop(columns=['Product Name','Processor Type','Operating System','Color','Display Resolution','Battery Type','Storage Type'], inplace=True)"
   ]
  },
  {
   "cell_type": "code",
   "execution_count": 130,
   "id": "d305a616-ec84-4a64-bf04-03a0b3c69985",
   "metadata": {},
   "outputs": [
    {
     "data": {
      "text/plain": [
       "Product Price                   int64\n",
       "Warranty Period(Months)       float64\n",
       "Screen Size(inch)             float64\n",
       "RAM(GB)                         int64\n",
       "Touch Display                    bool\n",
       "Storage Capacity (GB)         float64\n",
       "Pixels Width                    int64\n",
       "Pixels Height                   int64\n",
       "Processor_Type_encoded          int32\n",
       "Operating_System_encoded        int32\n",
       "Color_encoded                   int32\n",
       "Display_Resolution_encoded      int32\n",
       "Battery_Type_encoded            int32\n",
       "Storage_Type_encoded            int32\n",
       "Product_Name_encoded            int32\n",
       "dtype: object"
      ]
     },
     "execution_count": 130,
     "metadata": {},
     "output_type": "execute_result"
    }
   ],
   "source": [
    "df_model.dtypes"
   ]
  },
  {
   "cell_type": "code",
   "execution_count": 131,
   "id": "9f35f84d-2218-4165-a581-b9cf9dfbda7b",
   "metadata": {},
   "outputs": [],
   "source": [
    "df_model = df[['Product Price',\n",
    "               'RAM(GB)',\n",
    "               'Storage Capacity (GB)',\n",
    "              'Storage_Type_encoded']]"
   ]
  },
  {
   "cell_type": "code",
   "execution_count": 132,
   "id": "4d589af5-76c6-4a83-9e57-1d2fae2faa04",
   "metadata": {},
   "outputs": [],
   "source": [
    "df_model.rename(columns=lambda x: x.replace(' ', '_'), inplace=True)\n",
    "df_model.rename(columns=lambda x: x.replace('(GB)', 'GB'), inplace=True)"
   ]
  },
  {
   "cell_type": "code",
   "execution_count": 133,
   "id": "384ece22-e54a-49da-85ac-1e959e970511",
   "metadata": {},
   "outputs": [
    {
     "data": {
      "text/plain": [
       "Product_Price             int64\n",
       "RAMGB                     int64\n",
       "Storage_Capacity_GB     float64\n",
       "Storage_Type_encoded      int32\n",
       "dtype: object"
      ]
     },
     "execution_count": 133,
     "metadata": {},
     "output_type": "execute_result"
    }
   ],
   "source": [
    "df_model.dtypes"
   ]
  },
  {
   "cell_type": "markdown",
   "id": "e2166da5-ee22-4252-b9b7-970f19d433f6",
   "metadata": {},
   "source": [
    "## prepering the data"
   ]
  },
  {
   "cell_type": "code",
   "execution_count": 134,
   "id": "82389ec2-9316-4857-9827-84ef1d4d2427",
   "metadata": {},
   "outputs": [
    {
     "data": {
      "text/plain": [
       "(481, 4)"
      ]
     },
     "execution_count": 134,
     "metadata": {},
     "output_type": "execute_result"
    }
   ],
   "source": [
    "df_model.shape"
   ]
  },
  {
   "cell_type": "code",
   "execution_count": 136,
   "id": "6b856932-0278-4909-87b3-21debd5cf8ba",
   "metadata": {},
   "outputs": [],
   "source": [
    "df_model = df_model[df_model['Product_Price']>= 900] \n",
    "df_model = df_model[df_model['RAMGB']> 4] \n",
    "df_model = df_model[df_model['Storage_Capacity_GB']>= 200] "
   ]
  },
  {
   "cell_type": "code",
   "execution_count": 137,
   "id": "90c23612-4eed-478a-b636-bb0969e72d84",
   "metadata": {},
   "outputs": [],
   "source": [
    "# Prepare data\n",
    "X = df_model\n",
    "\n",
    "\n",
    "# sacle the data\n",
    "scaler = StandardScaler()\n",
    "X_scaled = scaler.fit_transform(X)\n"
   ]
  },
  {
   "cell_type": "code",
   "execution_count": 138,
   "id": "0b54f151-d794-41e0-9e07-1d42027e2609",
   "metadata": {},
   "outputs": [
    {
     "data": {
      "text/plain": [
       "(457, 4)"
      ]
     },
     "execution_count": 138,
     "metadata": {},
     "output_type": "execute_result"
    }
   ],
   "source": [
    "X.shape"
   ]
  },
  {
   "cell_type": "markdown",
   "id": "e9d809ae-135f-4d74-b49a-60f59a55b48c",
   "metadata": {},
   "source": [
    "## Buliding the Model - k-means"
   ]
  },
  {
   "cell_type": "code",
   "execution_count": 139,
   "id": "c096b0b9-ecb8-41b1-ba73-b796b4c5f3a9",
   "metadata": {},
   "outputs": [],
   "source": [
    "wcss = []\n",
    "for i in range(1, 15):\n",
    "    kmeans = KMeans(n_clusters=i,\n",
    "                    init='k-means++',\n",
    "                    max_iter=800,\n",
    "                    n_init=50,\n",
    "                    random_state=0)\n",
    "    kmeans.fit(X_scaled)\n",
    "    wcss.append(kmeans.inertia_)\n"
   ]
  },
  {
   "cell_type": "code",
   "execution_count": 140,
   "id": "98f613f3-15f1-40b0-bb18-e57727843fd6",
   "metadata": {},
   "outputs": [
    {
     "data": {
      "image/png": "[encoded data removed]",
      "text/plain": [
       "<Figure size 1000x600 with 1 Axes>"
      ]
     },
     "metadata": {},
     "output_type": "display_data"
    }
   ],
   "source": [
    "# 3. Plot the Elbow Curve\n",
    "plt.figure(figsize=(10, 6))\n",
    "plt.plot(range(1, 15), wcss,  marker='o', linestyle='-', color='b')\n",
    "plt.title('Elbow Method')\n",
    "plt.xlabel('Number of clusters')\n",
    "plt.ylabel('WCSS')\n",
    "plt.grid(True)\n",
    "plt.show()"
   ]
  },
  {
   "cell_type": "code",
   "execution_count": 141,
   "id": "8420e3db-8d3e-45f4-b8c5-d83a68f0ac79",
   "metadata": {},
   "outputs": [],
   "source": [
    "# Optional: Apply k-Means using the optimal number of clusters\n",
    "optimal_clusters = 4\n",
    "model = KMeans(n_clusters=optimal_clusters, init='k-means++', max_iter=800, n_init=50, random_state=0)"
   ]
  },
  {
   "cell_type": "markdown",
   "id": "cc54cd6a-37bc-4f12-830e-7eb9cd1678c9",
   "metadata": {},
   "source": [
    "## Train and Test the Model"
   ]
  },
  {
   "cell_type": "code",
   "execution_count": 142,
   "id": "50abf1cd-5c77-4929-887d-dddf6fa35642",
   "metadata": {},
   "outputs": [],
   "source": [
    "# Fit the model on the training data\n",
    "y_pred = model.fit_predict(X_scaled)"
   ]
  },
  {
   "cell_type": "markdown",
   "id": "b27aa04c-62f8-4754-80ea-6ffa4d591f90",
   "metadata": {},
   "source": [
    "## Evaluating the Model"
   ]
  },
  {
   "cell_type": "code",
   "execution_count": 143,
   "id": "412e9d8c-8859-4a4c-a0ba-da8ebc895ecf",
   "metadata": {},
   "outputs": [
    {
     "data": {
      "text/html": [
       "<div>\n",
       "<style scoped>\n",
       "    .dataframe tbody tr th:only-of-type {\n",
       "        vertical-align: middle;\n",
       "    }\n",
       "\n",
       "    .dataframe tbody tr th {\n",
       "        vertical-align: top;\n",
       "    }\n",
       "\n",
       "    .dataframe thead th {\n",
       "        text-align: right;\n",
       "    }\n",
       "</style>\n",
       "<table border=\"1\" class=\"dataframe\">\n",
       "  <thead>\n",
       "    <tr style=\"text-align: right;\">\n",
       "      <th></th>\n",
       "      <th>Product_Price</th>\n",
       "      <th>RAMGB</th>\n",
       "      <th>Storage_Capacity_GB</th>\n",
       "      <th>Storage_Type_encoded</th>\n",
       "    </tr>\n",
       "  </thead>\n",
       "  <tbody>\n",
       "    <tr>\n",
       "      <th>0</th>\n",
       "      <td>4299</td>\n",
       "      <td>16</td>\n",
       "      <td>1024.0</td>\n",
       "      <td>4</td>\n",
       "    </tr>\n",
       "    <tr>\n",
       "      <th>1</th>\n",
       "      <td>5999</td>\n",
       "      <td>16</td>\n",
       "      <td>256.0</td>\n",
       "      <td>13</td>\n",
       "    </tr>\n",
       "  </tbody>\n",
       "</table>\n",
       "</div>"
      ],
      "text/plain": [
       "   Product_Price  RAMGB  Storage_Capacity_GB  Storage_Type_encoded\n",
       "0           4299     16               1024.0                     4\n",
       "1           5999     16                256.0                    13"
      ]
     },
     "execution_count": 143,
     "metadata": {},
     "output_type": "execute_result"
    }
   ],
   "source": [
    "X.head(2)"
   ]
  },
  {
   "cell_type": "code",
   "execution_count": 144,
   "id": "60b1408d-de6c-4e05-ae41-55f6728f726d",
   "metadata": {},
   "outputs": [
    {
     "data": {
      "image/png": "[encoded data removed]",
      "text/plain": [
       "<Figure size 640x480 with 1 Axes>"
      ]
     },
     "metadata": {},
     "output_type": "display_data"
    }
   ],
   "source": [
    "# Plotting the clusters with optimal number\n",
    "plt.scatter(X_scaled[:, 0], X_scaled[:, 1], c=y_pred, s=50, cmap='viridis')\n",
    "\n",
    "centers = model.cluster_centers_\n",
    "plt.scatter(centers[:, 0], centers[:, 1], c='red', s=200, alpha=0.75, marker='X')\n",
    "plt.title(f'K-Means Clustering with {optimal_clusters} Clusters')\n",
    "plt.xlabel('Feature 1 - product price')\n",
    "plt.ylabel('Feature 2 - RAM(GB)')\n",
    "plt.show()"
   ]
  },
  {
   "cell_type": "code",
   "execution_count": 145,
   "id": "bf1b6ff3-fcce-44d5-b80f-19507fc3c03f",
   "metadata": {},
   "outputs": [
    {
     "data": {
      "image/png": "[encoded data removed]",
      "text/plain": [
       "<Figure size 640x480 with 1 Axes>"
      ]
     },
     "metadata": {},
     "output_type": "display_data"
    }
   ],
   "source": [
    "# Plotting the clusters with optimal number\n",
    "plt.scatter(X_scaled[:, 0], X_scaled[:, 2], c=y_pred, s=50, cmap='viridis')\n",
    "\n",
    "centers = model.cluster_centers_\n",
    "plt.scatter(centers[:, 0], centers[:, 2], c='red', s=200, alpha=0.75, marker='X')\n",
    "plt.title(f'K-Means Clustering with {optimal_clusters} Clusters')\n",
    "plt.xlabel('Feature 1 - product price')\n",
    "plt.ylabel('Feature 2 - Screen Size(inch')\n",
    "plt.show()"
   ]
  },
  {
   "cell_type": "code",
   "execution_count": 146,
   "id": "0b752859-6b96-4948-bb60-e65eed204848",
   "metadata": {},
   "outputs": [],
   "source": [
    "X['kmeans'] = y_pred"
   ]
  },
  {
   "cell_type": "code",
   "execution_count": 147,
   "id": "2cf304ab-37ad-4ef7-9045-ecfe99d8edbe",
   "metadata": {},
   "outputs": [
    {
     "data": {
      "text/plain": [
       "kmeans\n",
       "0    205\n",
       "3    111\n",
       "1     92\n",
       "2     49\n",
       "Name: count, dtype: int64"
      ]
     },
     "execution_count": 147,
     "metadata": {},
     "output_type": "execute_result"
    }
   ],
   "source": [
    "X['kmeans'].value_counts()"
   ]
  },
  {
   "cell_type": "code",
   "execution_count": 148,
   "id": "2da827d3-0265-426a-9e4c-2047ac8479ea",
   "metadata": {},
   "outputs": [],
   "source": [
    "df_0 = X[X['kmeans']==0]"
   ]
  },
  {
   "cell_type": "code",
   "execution_count": 149,
   "id": "f6d4ea77-faae-4844-ab65-2fb0109cea88",
   "metadata": {},
   "outputs": [],
   "source": [
    "df_1 = X[X['kmeans']==1]"
   ]
  },
  {
   "cell_type": "code",
   "execution_count": 150,
   "id": "253a95f9-0b12-42b9-94f9-ef98f9977c10",
   "metadata": {},
   "outputs": [],
   "source": [
    "df_2 = X[X['kmeans']==2]"
   ]
  },
  {
   "cell_type": "code",
   "execution_count": 151,
   "id": "3593f9cd-c05d-4702-997d-094cdf271a61",
   "metadata": {},
   "outputs": [],
   "source": [
    "df_3 = X[X['kmeans']==3]"
   ]
  },
  {
   "cell_type": "code",
   "execution_count": 152,
   "id": "502dccee-15fd-4220-a80a-9cabe848adf8",
   "metadata": {},
   "outputs": [
    {
     "data": {
      "application/vnd.jupyter.widget-view+json": {
       "model_id": "995f2ee580774e63b56ceafefc9f32fa",
       "version_major": 2,
       "version_minor": 0
      },
      "text/plain": [
       "                                             |                                             | [  0%]   00:00 ->…"
      ]
     },
     "metadata": {},
     "output_type": "display_data"
    },
    {
     "name": "stdout",
     "output_type": "stream",
     "text": [
      "Report report.html was generated! NOTEBOOK/COLAB USERS: the web browser MAY not pop up, regardless, the report IS saved in your notebook/colab files.\n"
     ]
    }
   ],
   "source": [
    "report = sv.analyze(df_0)\n",
    "report.show_html('report.html')"
   ]
  },
  {
   "cell_type": "code",
   "execution_count": 153,
   "id": "b8988cdc-f408-4dd3-a8ca-20eb6fb1efc7",
   "metadata": {},
   "outputs": [
    {
     "data": {
      "application/vnd.jupyter.widget-view+json": {
       "model_id": "c69fb5044cf849a5bf793a553befa78f",
       "version_major": 2,
       "version_minor": 0
      },
      "text/plain": [
       "                                             |                                             | [  0%]   00:00 ->…"
      ]
     },
     "metadata": {},
     "output_type": "display_data"
    },
    {
     "name": "stdout",
     "output_type": "stream",
     "text": [
      "Report report.html was generated! NOTEBOOK/COLAB USERS: the web browser MAY not pop up, regardless, the report IS saved in your notebook/colab files.\n"
     ]
    }
   ],
   "source": [
    "report = sv.analyze(df_1)\n",
    "report.show_html('report.html')"
   ]
  },
  {
   "cell_type": "code",
   "execution_count": 154,
   "id": "9b7e89bc-2bbb-4661-98bc-ee74b41142d6",
   "metadata": {},
   "outputs": [
    {
     "data": {
      "application/vnd.jupyter.widget-view+json": {
       "model_id": "286ecdc7408644a1bf0c04eed9deb680",
       "version_major": 2,
       "version_minor": 0
      },
      "text/plain": [
       "                                             |                                             | [  0%]   00:00 ->…"
      ]
     },
     "metadata": {},
     "output_type": "display_data"
    },
    {
     "name": "stdout",
     "output_type": "stream",
     "text": [
      "Report report.html was generated! NOTEBOOK/COLAB USERS: the web browser MAY not pop up, regardless, the report IS saved in your notebook/colab files.\n"
     ]
    }
   ],
   "source": [
    "report = sv.analyze(df_2)\n",
    "report.show_html('report.html')"
   ]
  },
  {
   "cell_type": "code",
   "execution_count": 155,
   "id": "67049457-1526-4c1f-bdf4-19d16dafb74b",
   "metadata": {},
   "outputs": [
    {
     "data": {
      "application/vnd.jupyter.widget-view+json": {
       "model_id": "c0d8c49a6f8c449592c11a7ab5e86594",
       "version_major": 2,
       "version_minor": 0
      },
      "text/plain": [
       "                                             |                                             | [  0%]   00:00 ->…"
      ]
     },
     "metadata": {},
     "output_type": "display_data"
    },
    {
     "name": "stdout",
     "output_type": "stream",
     "text": [
      "Report report.html was generated! NOTEBOOK/COLAB USERS: the web browser MAY not pop up, regardless, the report IS saved in your notebook/colab files.\n"
     ]
    }
   ],
   "source": [
    "report = sv.analyze(df_3)\n",
    "report.show_html('report.html')"
   ]
  },
  {
   "cell_type": "code",
   "execution_count": 156,
   "id": "c7286b45-05da-4531-9134-d8690011045e",
   "metadata": {},
   "outputs": [
    {
     "data": {
      "text/plain": [
       "(205, 5)"
      ]
     },
     "execution_count": 156,
     "metadata": {},
     "output_type": "execute_result"
    }
   ],
   "source": [
    "df_0.shape"
   ]
  },
  {
   "cell_type": "code",
   "execution_count": 157,
   "id": "f3daa5b2-a7ba-4d3e-a967-c43997b99ebc",
   "metadata": {},
   "outputs": [
    {
     "data": {
      "text/plain": [
       "(92, 5)"
      ]
     },
     "execution_count": 157,
     "metadata": {},
     "output_type": "execute_result"
    }
   ],
   "source": [
    "df_1.shape"
   ]
  },
  {
   "cell_type": "code",
   "execution_count": 158,
   "id": "9e74104a-c6d1-475e-83b1-e2521ad379ce",
   "metadata": {},
   "outputs": [
    {
     "data": {
      "text/plain": [
       "(49, 5)"
      ]
     },
     "execution_count": 158,
     "metadata": {},
     "output_type": "execute_result"
    }
   ],
   "source": [
    "df_2.shape"
   ]
  },
  {
   "cell_type": "code",
   "execution_count": 159,
   "id": "beb24ea9-886b-4fa7-84ef-00642369dec8",
   "metadata": {},
   "outputs": [
    {
     "data": {
      "text/plain": [
       "(111, 5)"
      ]
     },
     "execution_count": 159,
     "metadata": {},
     "output_type": "execute_result"
    }
   ],
   "source": [
    "df_3.shape"
   ]
  },
  {
   "cell_type": "markdown",
   "id": "6f51b7c6-beb6-4df7-84db-01f13d431f5f",
   "metadata": {},
   "source": [
    "## API"
   ]
  },
  {
   "cell_type": "code",
   "execution_count": 160,
   "id": "446ff9e1-5782-47d9-8be4-04f499937bc1",
   "metadata": {},
   "outputs": [
    {
     "data": {
      "text/plain": [
       "['scaler.joblib']"
      ]
     },
     "execution_count": 160,
     "metadata": {},
     "output_type": "execute_result"
    }
   ],
   "source": [
    "import joblib\n",
    "joblib.dump(model, 'kmeans_model.joblib')\n",
    "joblib.dump(scaler, 'scaler.joblib')"
   ]
  },
  {
   "cell_type": "code",
   "execution_count": 161,
   "id": "450ba8e1-0d0b-477c-b539-3e928543e5bd",
   "metadata": {},
   "outputs": [],
   "source": [
    "dbscan = DBSCAN(eps=0.4, min_samples=13) \n",
    "clusters = dbscan.fit_predict(X_scaled)  # Get cluster labels"
   ]
  },
  {
   "cell_type": "code",
   "execution_count": null,
   "id": "0d537688-3c9b-4c52-9ddb-418dde7bed53",
   "metadata": {},
   "outputs": [],
   "source": [
    "# Add the cluster labels to the DataFrame\n",
    "df_model['Cluster'] = clusters "
   ]
  },
  {
   "cell_type": "code",
   "execution_count": null,
   "id": "9450f599-b24a-4955-86ee-48ad732961f9",
   "metadata": {},
   "outputs": [],
   "source": [
    "#outliers\n",
    "outliers = df_model[df_model['Cluster'] == -1]"
   ]
  },
  {
   "cell_type": "code",
   "execution_count": null,
   "id": "736d8052-4ab9-4497-9e36-a3916b601bff",
   "metadata": {},
   "outputs": [],
   "source": [
    "print(\"Number of outliers (noise points):\", len(outliers))"
   ]
  },
  {
   "cell_type": "code",
   "execution_count": null,
   "id": "2a543d74-17e5-4345-bbbb-321c47a6f378",
   "metadata": {},
   "outputs": [],
   "source": [
    "# Count the number of points in each cluster (including outliers)\n",
    "print(pd.Series(clusters).value_counts())"
   ]
  },
  {
   "cell_type": "code",
   "execution_count": null,
   "id": "7b7d7a6e-e271-459c-968f-db6e69aa73a7",
   "metadata": {},
   "outputs": [],
   "source": [
    "# Filter valid (non-noise) data for silhouette score calculation\n",
    "valid_labels = clusters != -1\n",
    "valid_scaled_data = X_scaled[valid_labels]\n",
    "valid_dbscan_labels = clusters[valid_labels]"
   ]
  },
  {
   "cell_type": "code",
   "execution_count": null,
   "id": "8d422d80-1152-433c-b943-cf52a2fc1ec8",
   "metadata": {},
   "outputs": [],
   "source": [
    "# Calculate the silhouette score\n",
    "score = silhouette_score(valid_scaled_data, valid_dbscan_labels)\n",
    "print(f\"Silhouette Score: {score}\")"
   ]
  },
  {
   "cell_type": "code",
   "execution_count": null,
   "id": "ed25d363-8aec-4f49-8407-6bbf3f4da360",
   "metadata": {},
   "outputs": [],
   "source": [
    "# Create pairplot to visualize the clusters\n",
    "sns.pairplot(df_model, hue='Cluster', palette='viridis', markers=[\"o\", \"s\", \"D\"])\n",
    "plt.suptitle(\"Pairwise Feature Plot with DBSCAN Clusters\", y=1)\n",
    "plt.show()"
   ]
  },
  {
   "cell_type": "code",
   "execution_count": null,
   "id": "c4707f3c-7b1b-483a-91dd-3dd5c66e159c",
   "metadata": {},
   "outputs": [],
   "source": []
  }
 ],
 "metadata": {
  "kernelspec": {
   "display_name": "Python 3 (ipykernel)",
   "language": "python",
   "name": "python3"
  },
  "language_info": {
   "codemirror_mode": {
    "name": "ipython",
    "version": 3
   },
   "file_extension": ".py",
   "mimetype": "text/x-python",
   "name": "python",
   "nbconvert_exporter": "python",
   "pygments_lexer": "ipython3",
   "version": "3.12.4"
  }
 },
 "nbformat": 4,
 "nbformat_minor": 5
}

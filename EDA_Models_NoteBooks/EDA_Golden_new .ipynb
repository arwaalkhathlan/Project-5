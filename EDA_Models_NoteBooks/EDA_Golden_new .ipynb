{
 "cells": [
  {
   "cell_type": "code",
   "execution_count": 141,
   "id": "035c9ab9-78b2-4d08-b841-384f6cbc7c6b",
   "metadata": {},
   "outputs": [],
   "source": [
    "#Import all relevant libraries\n",
    "import numpy as np\n",
    "import pandas as pd\n",
    "import matplotlib.pyplot as plt\n",
    "import seaborn as sns\n",
    "from scipy.stats import zscore\n",
    "import plotly.express as px\n",
    "import dtale \n",
    "import re\n",
    "## This statement allows the visuals to render within your Jupyter Notebook.\n",
    "%matplotlib inline"
   ]
  },
  {
   "cell_type": "code",
   "execution_count": 142,
   "id": "7245b2d1-b83d-4165-af43-cdf08f6f2e3e",
   "metadata": {},
   "outputs": [],
   "source": [
    "df = pd.read_csv(\"GoldenTechnology.xls\")"
   ]
  },
  {
   "cell_type": "code",
   "execution_count": 143,
   "id": "9980be5f-ba4c-455e-aa31-a947f0279260",
   "metadata": {},
   "outputs": [
    {
     "data": {
      "text/plain": [
       "Index(['Product Price', 'Product Type', 'Model Number', 'Processor Type',\n",
       "       'Processor Speed', 'RAM', 'Storage Capacity', 'Graphics Card',\n",
       "       'Screen Size', 'Display Resolution', 'Touch Display',\n",
       "       'Network and Communication', 'Operating System', 'Front Camera',\n",
       "       'Rear Camera', 'Speakers Type', 'Battery Type', 'Color',\n",
       "       'Warranty Period', 'Part Number', 'Brand', 'DVD Reader', 'Fingerprint',\n",
       "       'Card Reader', 'Ethernet Port', 'Lighting keyboard',\n",
       "       'keyboard language', 'Display Type', 'Ports', 'Accessories',\n",
       "       'Panel Backlight', 'Display Technology', 'Features', 'Refresh Rate',\n",
       "       'Sync Technology', 'Keyboard type', 'Microsoft Office',\n",
       "       'Mobile broadband', 'High Dynamic Range', 'User Guide',\n",
       "       'Neural Processing', 'Fingerprint Type', 'Response Time',\n",
       "       'Microphone Type'],\n",
       "      dtype='object')"
      ]
     },
     "execution_count": 143,
     "metadata": {},
     "output_type": "execute_result"
    }
   ],
   "source": [
    "df.columns"
   ]
  },
  {
   "cell_type": "code",
   "execution_count": 144,
   "id": "d9b9154f-5330-4f62-b657-b2d634102861",
   "metadata": {},
   "outputs": [],
   "source": [
    "# Apply a transformation to the 'Model Number' column to extract the first word (or part) from each string\n",
    "df['Brand'] = df['Model Number'].apply(lambda x: x.split()[0])"
   ]
  },
  {
   "cell_type": "code",
   "execution_count": 145,
   "id": "dfc874af-78b2-429b-a809-4ac41eed2b8f",
   "metadata": {},
   "outputs": [
    {
     "data": {
      "text/plain": [
       "0      Microsoft\n",
       "1           Acer\n",
       "2             HP\n",
       "3        MacBook\n",
       "4           Acer\n",
       "         ...    \n",
       "310      MacBook\n",
       "311       Lenovo\n",
       "312           HP\n",
       "313    Microsoft\n",
       "314      IdeaPad\n",
       "Name: Brand, Length: 315, dtype: object"
      ]
     },
     "execution_count": 145,
     "metadata": {},
     "output_type": "execute_result"
    }
   ],
   "source": [
    "df[\"Brand\"]"
   ]
  },
  {
   "cell_type": "code",
   "execution_count": 146,
   "id": "7ee0c0c4-cd69-4941-9ca8-b3aae5bc61e1",
   "metadata": {},
   "outputs": [
    {
     "data": {
      "text/plain": [
       "Index(['Product Price', 'Product Type', 'Model Number', 'Processor Type',\n",
       "       'Processor Speed', 'RAM', 'Storage Capacity', 'Graphics Card',\n",
       "       'Screen Size', 'Display Resolution', 'Touch Display',\n",
       "       'Network and Communication', 'Operating System', 'Front Camera',\n",
       "       'Rear Camera', 'Speakers Type', 'Battery Type', 'Color',\n",
       "       'Warranty Period', 'Part Number', 'Brand', 'DVD Reader', 'Fingerprint',\n",
       "       'Card Reader', 'Ethernet Port', 'Lighting keyboard',\n",
       "       'keyboard language', 'Display Type', 'Ports', 'Accessories',\n",
       "       'Panel Backlight', 'Display Technology', 'Features', 'Refresh Rate',\n",
       "       'Sync Technology', 'Keyboard type', 'Microsoft Office',\n",
       "       'Mobile broadband', 'High Dynamic Range', 'User Guide',\n",
       "       'Neural Processing', 'Fingerprint Type', 'Response Time',\n",
       "       'Microphone Type'],\n",
       "      dtype='object')"
      ]
     },
     "execution_count": 146,
     "metadata": {},
     "output_type": "execute_result"
    }
   ],
   "source": [
    "df.columns"
   ]
  },
  {
   "cell_type": "code",
   "execution_count": 147,
   "id": "6c127aa9-2cc0-4c84-8fbd-4526def22a88",
   "metadata": {},
   "outputs": [],
   "source": [
    "df = df.drop(['Microsoft Office', 'keyboard language' , 'Mobile broadband' , 'High Dynamic Range', 'User Guide'], axis=1)"
   ]
  },
  {
   "cell_type": "code",
   "execution_count": 148,
   "id": "4cae13ae-4c65-475c-861b-ae740a550ffe",
   "metadata": {},
   "outputs": [
    {
     "data": {
      "text/plain": [
       "(315, 39)"
      ]
     },
     "execution_count": 148,
     "metadata": {},
     "output_type": "execute_result"
    }
   ],
   "source": [
    "df.shape"
   ]
  },
  {
   "cell_type": "code",
   "execution_count": 149,
   "id": "c7bae7e2-6e8e-411c-9f5c-cfe135785cfd",
   "metadata": {},
   "outputs": [],
   "source": [
    "df = df.drop(['Microphone Type', 'Response Time', 'Fingerprint Type', 'Neural Processing','Keyboard type','Sync Technology',\n",
    "              'Refresh Rate','Features','Display Technology','Panel Backlight','DVD Reader','Rear Camera',\n",
    "                'Fingerprint','Card Reader','Ethernet Port','Accessories'], axis=1)"
   ]
  },
  {
   "cell_type": "code",
   "execution_count": 150,
   "id": "4f096984-652c-4325-870b-2eec18f7767b",
   "metadata": {},
   "outputs": [
    {
     "data": {
      "text/plain": [
       "(315, 23)"
      ]
     },
     "execution_count": 150,
     "metadata": {},
     "output_type": "execute_result"
    }
   ],
   "source": [
    "df.shape"
   ]
  },
  {
   "cell_type": "code",
   "execution_count": 151,
   "id": "d1b6647a-10e0-4469-8760-eaaf344bec48",
   "metadata": {},
   "outputs": [
    {
     "data": {
      "text/plain": [
       "Index(['Product Price', 'Product Type', 'Model Number', 'Processor Type',\n",
       "       'Processor Speed', 'RAM', 'Storage Capacity', 'Graphics Card',\n",
       "       'Screen Size', 'Display Resolution', 'Touch Display',\n",
       "       'Network and Communication', 'Operating System', 'Front Camera',\n",
       "       'Speakers Type', 'Battery Type', 'Color', 'Warranty Period',\n",
       "       'Part Number', 'Brand', 'Lighting keyboard', 'Display Type', 'Ports'],\n",
       "      dtype='object')"
      ]
     },
     "execution_count": 151,
     "metadata": {},
     "output_type": "execute_result"
    }
   ],
   "source": [
    "df.columns"
   ]
  },
  {
   "cell_type": "code",
   "execution_count": 152,
   "id": "5e35869f-e75e-4c09-acfa-be857b5868f8",
   "metadata": {},
   "outputs": [
    {
     "data": {
      "text/plain": [
       "Product Price                object\n",
       "Product Type                 object\n",
       "Model Number                 object\n",
       "Processor Type               object\n",
       "Processor Speed              object\n",
       "RAM                          object\n",
       "Storage Capacity             object\n",
       "Graphics Card                object\n",
       "Screen Size                  object\n",
       "Display Resolution           object\n",
       "Touch Display                object\n",
       "Network and Communication    object\n",
       "Operating System             object\n",
       "Front Camera                 object\n",
       "Speakers Type                object\n",
       "Battery Type                 object\n",
       "Color                        object\n",
       "Warranty Period              object\n",
       "Part Number                  object\n",
       "Brand                        object\n",
       "Lighting keyboard            object\n",
       "Display Type                 object\n",
       "Ports                        object\n",
       "dtype: object"
      ]
     },
     "execution_count": 152,
     "metadata": {},
     "output_type": "execute_result"
    }
   ],
   "source": [
    "df.dtypes"
   ]
  },
  {
   "cell_type": "code",
   "execution_count": 153,
   "id": "aa39fb07-ff00-4a07-b395-e2da91ae0056",
   "metadata": {},
   "outputs": [],
   "source": [
    "# Step 1: Remove commas and currency symbol 'SR'\n",
    "df['Product Price'] = df['Product Price'].replace({',': '', ' SR': ''}, regex=True)\n",
    "\n",
    "# Step 2: Convert the cleaned string to integer\n",
    "df['Product Price'] = df['Product Price'].astype(int)"
   ]
  },
  {
   "cell_type": "code",
   "execution_count": 154,
   "id": "d5106340-c380-4cbd-b378-6d717250df8a",
   "metadata": {},
   "outputs": [
    {
     "data": {
      "text/plain": [
       "0      6799\n",
       "1      1899\n",
       "2      1149\n",
       "3      4499\n",
       "4      1999\n",
       "       ... \n",
       "310    2699\n",
       "311     994\n",
       "312    1199\n",
       "313    1149\n",
       "314    3699\n",
       "Name: Product Price, Length: 315, dtype: int32"
      ]
     },
     "execution_count": 154,
     "metadata": {},
     "output_type": "execute_result"
    }
   ],
   "source": [
    "df['Product Price']"
   ]
  },
  {
   "cell_type": "code",
   "execution_count": 155,
   "id": "dee2e4ed-4d6a-4bf4-8468-3219092d1d95",
   "metadata": {},
   "outputs": [
    {
     "data": {
      "text/plain": [
       "Product Price                 int32\n",
       "Product Type                 object\n",
       "Model Number                 object\n",
       "Processor Type               object\n",
       "Processor Speed              object\n",
       "RAM                          object\n",
       "Storage Capacity             object\n",
       "Graphics Card                object\n",
       "Screen Size                  object\n",
       "Display Resolution           object\n",
       "Touch Display                object\n",
       "Network and Communication    object\n",
       "Operating System             object\n",
       "Front Camera                 object\n",
       "Speakers Type                object\n",
       "Battery Type                 object\n",
       "Color                        object\n",
       "Warranty Period              object\n",
       "Part Number                  object\n",
       "Brand                        object\n",
       "Lighting keyboard            object\n",
       "Display Type                 object\n",
       "Ports                        object\n",
       "dtype: object"
      ]
     },
     "execution_count": 155,
     "metadata": {},
     "output_type": "execute_result"
    }
   ],
   "source": [
    "df.dtypes"
   ]
  },
  {
   "cell_type": "code",
   "execution_count": 156,
   "id": "de319363-4d2c-4c95-960b-bb6ac8bbb312",
   "metadata": {},
   "outputs": [],
   "source": [
    "df['Touch Display'] = df['Touch Display'].fillna('No')"
   ]
  },
  {
   "cell_type": "code",
   "execution_count": 157,
   "id": "c808175e-7257-4a0b-a56f-186a3545d601",
   "metadata": {},
   "outputs": [
    {
     "data": {
      "text/plain": [
       "Touch Display\n",
       "No     280\n",
       "Yes     35\n",
       "Name: count, dtype: int64"
      ]
     },
     "execution_count": 157,
     "metadata": {},
     "output_type": "execute_result"
    }
   ],
   "source": [
    "df['Touch Display'].value_counts()"
   ]
  },
  {
   "cell_type": "code",
   "execution_count": 158,
   "id": "45aeab88-1c93-4236-a910-26488a31b888",
   "metadata": {},
   "outputs": [],
   "source": [
    "df['Product Type'] = df['Product Type'].apply(lambda x: x.replace('Laptop', '').strip())"
   ]
  },
  {
   "cell_type": "code",
   "execution_count": 159,
   "id": "fd0acb25-3b7e-4ecd-b335-528f575c68ed",
   "metadata": {},
   "outputs": [
    {
     "data": {
      "text/plain": [
       "0        2-in-1\n",
       "1      Business\n",
       "2              \n",
       "3              \n",
       "4              \n",
       "         ...   \n",
       "310            \n",
       "311            \n",
       "312            \n",
       "313      2-in-1\n",
       "314            \n",
       "Name: Product Type, Length: 315, dtype: object"
      ]
     },
     "execution_count": 159,
     "metadata": {},
     "output_type": "execute_result"
    }
   ],
   "source": [
    "df['Product Type']"
   ]
  },
  {
   "cell_type": "code",
   "execution_count": 160,
   "id": "9080cabe-8ac5-4840-9f64-b536a3bc4ed0",
   "metadata": {},
   "outputs": [],
   "source": [
    "df['Product Type'] = df['Product Type'].replace({'': 'standard'}, regex=True)"
   ]
  },
  {
   "cell_type": "code",
   "execution_count": 161,
   "id": "e6b76548-05a6-40e1-993c-095c073d88e9",
   "metadata": {},
   "outputs": [
    {
     "data": {
      "text/plain": [
       "0        2-in-1\n",
       "1      Business\n",
       "2      standard\n",
       "3      standard\n",
       "4      standard\n",
       "         ...   \n",
       "310    standard\n",
       "311    standard\n",
       "312    standard\n",
       "313      2-in-1\n",
       "314    standard\n",
       "Name: Product Type, Length: 315, dtype: object"
      ]
     },
     "execution_count": 161,
     "metadata": {},
     "output_type": "execute_result"
    }
   ],
   "source": [
    "df['Product Type']"
   ]
  },
  {
   "cell_type": "code",
   "execution_count": 162,
   "id": "812b414f-eece-4b1f-8c99-c8c37d317fa9",
   "metadata": {},
   "outputs": [
    {
     "data": {
      "text/html": [
       "<div>\n",
       "<style scoped>\n",
       "    .dataframe tbody tr th:only-of-type {\n",
       "        vertical-align: middle;\n",
       "    }\n",
       "\n",
       "    .dataframe tbody tr th {\n",
       "        vertical-align: top;\n",
       "    }\n",
       "\n",
       "    .dataframe thead th {\n",
       "        text-align: right;\n",
       "    }\n",
       "</style>\n",
       "<table border=\"1\" class=\"dataframe\">\n",
       "  <thead>\n",
       "    <tr style=\"text-align: right;\">\n",
       "      <th></th>\n",
       "      <th>Product Price</th>\n",
       "      <th>Product Type</th>\n",
       "      <th>Model Number</th>\n",
       "      <th>Processor Type</th>\n",
       "      <th>Processor Speed</th>\n",
       "      <th>RAM</th>\n",
       "      <th>Storage Capacity</th>\n",
       "      <th>Graphics Card</th>\n",
       "      <th>Screen Size</th>\n",
       "      <th>Display Resolution</th>\n",
       "      <th>...</th>\n",
       "      <th>Front Camera</th>\n",
       "      <th>Speakers Type</th>\n",
       "      <th>Battery Type</th>\n",
       "      <th>Color</th>\n",
       "      <th>Warranty Period</th>\n",
       "      <th>Part Number</th>\n",
       "      <th>Brand</th>\n",
       "      <th>Lighting keyboard</th>\n",
       "      <th>Display Type</th>\n",
       "      <th>Ports</th>\n",
       "    </tr>\n",
       "  </thead>\n",
       "  <tbody>\n",
       "    <tr>\n",
       "      <th>34</th>\n",
       "      <td>17499</td>\n",
       "      <td>2-in-1 Business</td>\n",
       "      <td>HP Dragonfly Folio G3 2-in-1 Notebook PC Wolf ...</td>\n",
       "      <td>Intel Core i7-1255U (12th Gen)</td>\n",
       "      <td>1.7 GHz</td>\n",
       "      <td>16GB LPDDR5-6400 MHz RAM</td>\n",
       "      <td>512GB SSD M.2</td>\n",
       "      <td>Intel Iris Xe Graphics</td>\n",
       "      <td>13.5 inch</td>\n",
       "      <td>WUXGA+ 1920x1280, IPS</td>\n",
       "      <td>...</td>\n",
       "      <td>8 MP camera</td>\n",
       "      <td>NaN</td>\n",
       "      <td>HP Long Life 4-cell, 53 Wh Li-ion</td>\n",
       "      <td>Black</td>\n",
       "      <td>36 Months</td>\n",
       "      <td>6T225EA</td>\n",
       "      <td>HP</td>\n",
       "      <td>Yes</td>\n",
       "      <td>NaN</td>\n",
       "      <td>NaN</td>\n",
       "    </tr>\n",
       "    <tr>\n",
       "      <th>118</th>\n",
       "      <td>15799</td>\n",
       "      <td>2-in-1 Business</td>\n",
       "      <td>ThinkBook 14s Yoga G3 IRU</td>\n",
       "      <td>Intel Core i7-1355U (13th Gen)</td>\n",
       "      <td>3.7 GHz</td>\n",
       "      <td>16GB DDR4 3200MHz</td>\n",
       "      <td>512GB SSD M.2</td>\n",
       "      <td>Intel Iris Xe Graphics</td>\n",
       "      <td>14 inch</td>\n",
       "      <td>1920x1080</td>\n",
       "      <td>...</td>\n",
       "      <td>FHD 1080p with Privacy Shutter</td>\n",
       "      <td>Stereo speakers, 2W x2, Dolby Audio</td>\n",
       "      <td>Lithium 4 Cell</td>\n",
       "      <td>Mineral Grey</td>\n",
       "      <td>36 Months</td>\n",
       "      <td>21JG000BAD</td>\n",
       "      <td>ThinkBook</td>\n",
       "      <td>Yes</td>\n",
       "      <td>Full HD</td>\n",
       "      <td>NaN</td>\n",
       "    </tr>\n",
       "    <tr>\n",
       "      <th>205</th>\n",
       "      <td>5999</td>\n",
       "      <td>2-in-1 Business</td>\n",
       "      <td>HP Elite x360 1040 14 inch G9 2-in-1</td>\n",
       "      <td>Intel Core i7-1255U (12th Gen)</td>\n",
       "      <td>1.7 GHz</td>\n",
       "      <td>16GB LPDDR5 4800MHz</td>\n",
       "      <td>512GB SSD M.2</td>\n",
       "      <td>Intel Iris Xe Graphics</td>\n",
       "      <td>14 inch</td>\n",
       "      <td>WUXGA 1920x1200 IPS</td>\n",
       "      <td>...</td>\n",
       "      <td>5 MP camera</td>\n",
       "      <td>NaN</td>\n",
       "      <td>HP Long Life 3-cell, 51 Wh Li-ion</td>\n",
       "      <td>Silver</td>\n",
       "      <td>36 Months</td>\n",
       "      <td>5P6Z3EA</td>\n",
       "      <td>HP</td>\n",
       "      <td>Yes</td>\n",
       "      <td>WUXGA</td>\n",
       "      <td>NaN</td>\n",
       "    </tr>\n",
       "  </tbody>\n",
       "</table>\n",
       "<p>3 rows × 23 columns</p>\n",
       "</div>"
      ],
      "text/plain": [
       "     Product Price     Product Type  \\\n",
       "34           17499  2-in-1 Business   \n",
       "118          15799  2-in-1 Business   \n",
       "205           5999  2-in-1 Business   \n",
       "\n",
       "                                          Model Number  \\\n",
       "34   HP Dragonfly Folio G3 2-in-1 Notebook PC Wolf ...   \n",
       "118                          ThinkBook 14s Yoga G3 IRU   \n",
       "205               HP Elite x360 1040 14 inch G9 2-in-1   \n",
       "\n",
       "                     Processor Type Processor Speed                       RAM  \\\n",
       "34   Intel Core i7-1255U (12th Gen)         1.7 GHz  16GB LPDDR5-6400 MHz RAM   \n",
       "118  Intel Core i7-1355U (13th Gen)         3.7 GHz         16GB DDR4 3200MHz   \n",
       "205  Intel Core i7-1255U (12th Gen)         1.7 GHz       16GB LPDDR5 4800MHz   \n",
       "\n",
       "    Storage Capacity           Graphics Card Screen Size  \\\n",
       "34     512GB SSD M.2  Intel Iris Xe Graphics   13.5 inch   \n",
       "118    512GB SSD M.2  Intel Iris Xe Graphics     14 inch   \n",
       "205    512GB SSD M.2  Intel Iris Xe Graphics     14 inch   \n",
       "\n",
       "        Display Resolution  ...                    Front Camera  \\\n",
       "34   WUXGA+ 1920x1280, IPS  ...                     8 MP camera   \n",
       "118              1920x1080  ...  FHD 1080p with Privacy Shutter   \n",
       "205    WUXGA 1920x1200 IPS  ...                     5 MP camera   \n",
       "\n",
       "                           Speakers Type                       Battery Type  \\\n",
       "34                                   NaN  HP Long Life 4-cell, 53 Wh Li-ion   \n",
       "118  Stereo speakers, 2W x2, Dolby Audio                     Lithium 4 Cell   \n",
       "205                                  NaN  HP Long Life 3-cell, 51 Wh Li-ion   \n",
       "\n",
       "            Color Warranty Period Part Number      Brand Lighting keyboard  \\\n",
       "34          Black       36 Months     6T225EA         HP               Yes   \n",
       "118  Mineral Grey       36 Months  21JG000BAD  ThinkBook               Yes   \n",
       "205        Silver       36 Months     5P6Z3EA         HP               Yes   \n",
       "\n",
       "    Display Type Ports  \n",
       "34           NaN   NaN  \n",
       "118      Full HD   NaN  \n",
       "205        WUXGA   NaN  \n",
       "\n",
       "[3 rows x 23 columns]"
      ]
     },
     "execution_count": 162,
     "metadata": {},
     "output_type": "execute_result"
    }
   ],
   "source": [
    "df[df['Product Type'] == '2-in-1 Business']"
   ]
  },
  {
   "cell_type": "code",
   "execution_count": 163,
   "id": "0c20f5c4-0845-491c-8e6e-1bd61e548e9e",
   "metadata": {},
   "outputs": [],
   "source": [
    "df['Product Type'] = df['Product Type'].replace({'2-in-1 Business': '2-in-1'}, regex=True)"
   ]
  },
  {
   "cell_type": "code",
   "execution_count": 164,
   "id": "ec458cac-e0ba-4a91-86b9-f454a6edbe83",
   "metadata": {},
   "outputs": [
    {
     "data": {
      "text/html": [
       "<div>\n",
       "<style scoped>\n",
       "    .dataframe tbody tr th:only-of-type {\n",
       "        vertical-align: middle;\n",
       "    }\n",
       "\n",
       "    .dataframe tbody tr th {\n",
       "        vertical-align: top;\n",
       "    }\n",
       "\n",
       "    .dataframe thead th {\n",
       "        text-align: right;\n",
       "    }\n",
       "</style>\n",
       "<table border=\"1\" class=\"dataframe\">\n",
       "  <thead>\n",
       "    <tr style=\"text-align: right;\">\n",
       "      <th></th>\n",
       "      <th>Product Price</th>\n",
       "      <th>Product Type</th>\n",
       "      <th>Model Number</th>\n",
       "      <th>Processor Type</th>\n",
       "      <th>Processor Speed</th>\n",
       "      <th>RAM</th>\n",
       "      <th>Storage Capacity</th>\n",
       "      <th>Graphics Card</th>\n",
       "      <th>Screen Size</th>\n",
       "      <th>Display Resolution</th>\n",
       "      <th>...</th>\n",
       "      <th>Front Camera</th>\n",
       "      <th>Speakers Type</th>\n",
       "      <th>Battery Type</th>\n",
       "      <th>Color</th>\n",
       "      <th>Warranty Period</th>\n",
       "      <th>Part Number</th>\n",
       "      <th>Brand</th>\n",
       "      <th>Lighting keyboard</th>\n",
       "      <th>Display Type</th>\n",
       "      <th>Ports</th>\n",
       "    </tr>\n",
       "  </thead>\n",
       "  <tbody>\n",
       "  </tbody>\n",
       "</table>\n",
       "<p>0 rows × 23 columns</p>\n",
       "</div>"
      ],
      "text/plain": [
       "Empty DataFrame\n",
       "Columns: [Product Price, Product Type, Model Number, Processor Type, Processor Speed, RAM, Storage Capacity, Graphics Card, Screen Size, Display Resolution, Touch Display, Network and Communication, Operating System, Front Camera, Speakers Type, Battery Type, Color, Warranty Period, Part Number, Brand, Lighting keyboard, Display Type, Ports]\n",
       "Index: []\n",
       "\n",
       "[0 rows x 23 columns]"
      ]
     },
     "execution_count": 164,
     "metadata": {},
     "output_type": "execute_result"
    }
   ],
   "source": [
    "df[df['Product Type'] == '2-in-1 Business']"
   ]
  },
  {
   "cell_type": "code",
   "execution_count": 165,
   "id": "98ffd24a-3f52-4bd0-a222-19bc32a5deb3",
   "metadata": {},
   "outputs": [
    {
     "data": {
      "text/plain": [
       "Index(['Product Price', 'Product Type', 'Model Number', 'Processor Type',\n",
       "       'Processor Speed', 'RAM', 'Storage Capacity', 'Graphics Card',\n",
       "       'Screen Size', 'Display Resolution', 'Touch Display',\n",
       "       'Network and Communication', 'Operating System', 'Front Camera',\n",
       "       'Speakers Type', 'Battery Type', 'Color', 'Warranty Period',\n",
       "       'Part Number', 'Brand', 'Lighting keyboard', 'Display Type', 'Ports'],\n",
       "      dtype='object')"
      ]
     },
     "execution_count": 165,
     "metadata": {},
     "output_type": "execute_result"
    }
   ],
   "source": [
    "df.columns"
   ]
  },
  {
   "cell_type": "code",
   "execution_count": 166,
   "id": "6ab5966c-276e-4d79-bf37-684c492a5a0d",
   "metadata": {},
   "outputs": [],
   "source": [
    "df = df.drop(['Processor Speed'], axis=1)"
   ]
  },
  {
   "cell_type": "code",
   "execution_count": 167,
   "id": "b7d9083f-e20d-4657-b12e-e4fb1d025cc2",
   "metadata": {},
   "outputs": [
    {
     "data": {
      "text/plain": [
       "Index(['Product Price', 'Product Type', 'Model Number', 'Processor Type',\n",
       "       'RAM', 'Storage Capacity', 'Graphics Card', 'Screen Size',\n",
       "       'Display Resolution', 'Touch Display', 'Network and Communication',\n",
       "       'Operating System', 'Front Camera', 'Speakers Type', 'Battery Type',\n",
       "       'Color', 'Warranty Period', 'Part Number', 'Brand', 'Lighting keyboard',\n",
       "       'Display Type', 'Ports'],\n",
       "      dtype='object')"
      ]
     },
     "execution_count": 167,
     "metadata": {},
     "output_type": "execute_result"
    }
   ],
   "source": [
    "df.columns"
   ]
  },
  {
   "cell_type": "code",
   "execution_count": 168,
   "id": "d6dc8ad3-528e-43f8-a3ac-f7b6705b8926",
   "metadata": {},
   "outputs": [],
   "source": [
    "df = df.drop(['Lighting keyboard'], axis=1)"
   ]
  },
  {
   "cell_type": "code",
   "execution_count": 169,
   "id": "f4e95d29-c245-4c8f-9093-43ca4f9e8e36",
   "metadata": {},
   "outputs": [
    {
     "data": {
      "text/plain": [
       "(315, 21)"
      ]
     },
     "execution_count": 169,
     "metadata": {},
     "output_type": "execute_result"
    }
   ],
   "source": [
    "df.shape"
   ]
  },
  {
   "cell_type": "code",
   "execution_count": 170,
   "id": "e464d34e-fd9e-4c67-a557-c475cc0d4654",
   "metadata": {},
   "outputs": [],
   "source": [
    "df = df.drop(['Speakers Type', 'Part Number','Ports'], axis=1)"
   ]
  },
  {
   "cell_type": "code",
   "execution_count": 171,
   "id": "2de9d352-58b1-4ca3-abbe-33daf3a6401e",
   "metadata": {},
   "outputs": [],
   "source": [
    "# df['Front Camera']"
   ]
  },
  {
   "cell_type": "code",
   "execution_count": 172,
   "id": "aef0d8b6-053f-4743-adb3-b5f8908df6f1",
   "metadata": {},
   "outputs": [],
   "source": [
    "# df['Front Camera'] = df['Front Camera'].where(df['Front Camera'].isna(), 'Yes')"
   ]
  },
  {
   "cell_type": "code",
   "execution_count": 173,
   "id": "1739dccb-89fa-4c19-ac01-a56d426e9358",
   "metadata": {},
   "outputs": [],
   "source": [
    "# df['Front Camera']"
   ]
  },
  {
   "cell_type": "code",
   "execution_count": 174,
   "id": "bf5e5abf-13e2-47b1-a611-7a71617d4a4c",
   "metadata": {},
   "outputs": [],
   "source": [
    "# df['Front Camera'] = df['Front Camera'].fillna('No')"
   ]
  },
  {
   "cell_type": "code",
   "execution_count": 175,
   "id": "eccb2ca4-0aa7-45eb-a053-83a6997cffcb",
   "metadata": {},
   "outputs": [],
   "source": [
    "# df['Front Camera'] = df['Front Camera'].astype(bool)"
   ]
  },
  {
   "cell_type": "code",
   "execution_count": 176,
   "id": "1c552271-cb49-4304-b0e9-9c5a02737ae1",
   "metadata": {},
   "outputs": [
    {
     "data": {
      "text/plain": [
       "Product Price                 int32\n",
       "Product Type                 object\n",
       "Model Number                 object\n",
       "Processor Type               object\n",
       "RAM                          object\n",
       "Storage Capacity             object\n",
       "Graphics Card                object\n",
       "Screen Size                  object\n",
       "Display Resolution           object\n",
       "Touch Display                object\n",
       "Network and Communication    object\n",
       "Operating System             object\n",
       "Front Camera                 object\n",
       "Battery Type                 object\n",
       "Color                        object\n",
       "Warranty Period              object\n",
       "Brand                        object\n",
       "Display Type                 object\n",
       "dtype: object"
      ]
     },
     "execution_count": 176,
     "metadata": {},
     "output_type": "execute_result"
    }
   ],
   "source": [
    "df.dtypes"
   ]
  },
  {
   "cell_type": "code",
   "execution_count": 177,
   "id": "d195c41b-545f-41f0-92e3-35fa40f07b6d",
   "metadata": {},
   "outputs": [
    {
     "data": {
      "text/plain": [
       "Touch Display\n",
       "No     280\n",
       "Yes     35\n",
       "Name: count, dtype: int64"
      ]
     },
     "execution_count": 177,
     "metadata": {},
     "output_type": "execute_result"
    }
   ],
   "source": [
    "df['Touch Display'].value_counts()"
   ]
  },
  {
   "cell_type": "code",
   "execution_count": 178,
   "id": "d8200794-c407-46a2-a7f0-1e0c958e8565",
   "metadata": {},
   "outputs": [],
   "source": [
    "df['Touch Display'] = df['Touch Display'].map({'Yes': True, 'No': False})"
   ]
  },
  {
   "cell_type": "code",
   "execution_count": 179,
   "id": "91f3b84d-b10a-4138-b4b4-39209e95be13",
   "metadata": {},
   "outputs": [
    {
     "data": {
      "text/plain": [
       "Touch Display\n",
       "False    280\n",
       "True      35\n",
       "Name: count, dtype: int64"
      ]
     },
     "execution_count": 179,
     "metadata": {},
     "output_type": "execute_result"
    }
   ],
   "source": [
    "df['Touch Display'].value_counts()"
   ]
  },
  {
   "cell_type": "code",
   "execution_count": 180,
   "id": "c229c2fd-a364-462d-b429-a35cd0a3cb04",
   "metadata": {},
   "outputs": [],
   "source": [
    "df['Touch Display'] = df['Touch Display'].astype(bool)"
   ]
  },
  {
   "cell_type": "code",
   "execution_count": 181,
   "id": "2d69d823-9457-42b5-861a-2ed07bd36640",
   "metadata": {},
   "outputs": [
    {
     "data": {
      "text/plain": [
       "Product Price                 int32\n",
       "Product Type                 object\n",
       "Model Number                 object\n",
       "Processor Type               object\n",
       "RAM                          object\n",
       "Storage Capacity             object\n",
       "Graphics Card                object\n",
       "Screen Size                  object\n",
       "Display Resolution           object\n",
       "Touch Display                  bool\n",
       "Network and Communication    object\n",
       "Operating System             object\n",
       "Front Camera                 object\n",
       "Battery Type                 object\n",
       "Color                        object\n",
       "Warranty Period              object\n",
       "Brand                        object\n",
       "Display Type                 object\n",
       "dtype: object"
      ]
     },
     "execution_count": 181,
     "metadata": {},
     "output_type": "execute_result"
    }
   ],
   "source": [
    "df.dtypes"
   ]
  },
  {
   "cell_type": "code",
   "execution_count": 182,
   "id": "9aee3c90-e3bc-47a9-a102-a0e601a14681",
   "metadata": {},
   "outputs": [],
   "source": [
    "df = df.drop(['Display Type',  ], axis=1)"
   ]
  },
  {
   "cell_type": "code",
   "execution_count": 183,
   "id": "794099d3-7d00-4a61-8abb-bae0a63c02b5",
   "metadata": {},
   "outputs": [
    {
     "data": {
      "text/plain": [
       "(315, 17)"
      ]
     },
     "execution_count": 183,
     "metadata": {},
     "output_type": "execute_result"
    }
   ],
   "source": [
    "df.shape"
   ]
  },
  {
   "cell_type": "code",
   "execution_count": 184,
   "id": "73ee9fa3-0753-4476-a709-544d9cb5b49c",
   "metadata": {},
   "outputs": [],
   "source": [
    "df['Network and Communication'] = df['Network and Communication'].fillna('Not Available')"
   ]
  },
  {
   "cell_type": "code",
   "execution_count": 185,
   "id": "935dd88f-148f-47b6-b936-5e32c3caba2a",
   "metadata": {},
   "outputs": [
    {
     "data": {
      "text/plain": [
       "Product Price                 int32\n",
       "Product Type                 object\n",
       "Model Number                 object\n",
       "Processor Type               object\n",
       "RAM                          object\n",
       "Storage Capacity             object\n",
       "Graphics Card                object\n",
       "Screen Size                  object\n",
       "Display Resolution           object\n",
       "Touch Display                  bool\n",
       "Network and Communication    object\n",
       "Operating System             object\n",
       "Front Camera                 object\n",
       "Battery Type                 object\n",
       "Color                        object\n",
       "Warranty Period              object\n",
       "Brand                        object\n",
       "dtype: object"
      ]
     },
     "execution_count": 185,
     "metadata": {},
     "output_type": "execute_result"
    }
   ],
   "source": [
    "df.dtypes"
   ]
  },
  {
   "cell_type": "code",
   "execution_count": 186,
   "id": "4ff20180-aafd-410d-b719-4139ee89ee2a",
   "metadata": {},
   "outputs": [
    {
     "data": {
      "text/plain": [
       "0      24 Months\n",
       "1      36 Months\n",
       "2      24 Months\n",
       "3      24 Months\n",
       "4      24 Months\n",
       "         ...    \n",
       "310    24 Months\n",
       "311    24 Months\n",
       "312    24 Months\n",
       "313    24 Months\n",
       "314    24 Months\n",
       "Name: Warranty Period, Length: 315, dtype: object"
      ]
     },
     "execution_count": 186,
     "metadata": {},
     "output_type": "execute_result"
    }
   ],
   "source": [
    "df['Warranty Period']"
   ]
  },
  {
   "cell_type": "code",
   "execution_count": 187,
   "id": "52ed386c-7952-4c2e-ad9d-c391bd90a388",
   "metadata": {},
   "outputs": [],
   "source": [
    "df['Warranty Period'] = df['Warranty Period'].replace({'Months': ''}, regex=True)"
   ]
  },
  {
   "cell_type": "code",
   "execution_count": 188,
   "id": "dc0c1423-97f6-49b0-9c21-f7ae037d8fb8",
   "metadata": {},
   "outputs": [],
   "source": [
    "df['Warranty Period'] = df['Warranty Period'].astype(float)"
   ]
  },
  {
   "cell_type": "code",
   "execution_count": 189,
   "id": "dbce9259-45e4-4ef0-bdb8-bf4ffb5c52d0",
   "metadata": {},
   "outputs": [],
   "source": [
    "df.rename(columns={'Warranty Period':'Warranty Period(Months)'}, inplace=True)"
   ]
  },
  {
   "cell_type": "code",
   "execution_count": 190,
   "id": "035aafb6-7b0c-45ac-820e-f00bddbdbf8d",
   "metadata": {},
   "outputs": [
    {
     "data": {
      "text/plain": [
       "Index(['Product Price', 'Product Type', 'Model Number', 'Processor Type',\n",
       "       'RAM', 'Storage Capacity', 'Graphics Card', 'Screen Size',\n",
       "       'Display Resolution', 'Touch Display', 'Network and Communication',\n",
       "       'Operating System', 'Front Camera', 'Battery Type', 'Color',\n",
       "       'Warranty Period(Months)', 'Brand'],\n",
       "      dtype='object')"
      ]
     },
     "execution_count": 190,
     "metadata": {},
     "output_type": "execute_result"
    }
   ],
   "source": [
    "df.columns"
   ]
  },
  {
   "cell_type": "code",
   "execution_count": 191,
   "id": "ac80430b-9842-410c-a00e-12df1b6b2dc1",
   "metadata": {},
   "outputs": [],
   "source": [
    "df.rename(columns={'Model Number':'Product Name'}, inplace=True)"
   ]
  },
  {
   "cell_type": "code",
   "execution_count": 192,
   "id": "745f66c0-a5e7-4357-ae59-89db7be89eee",
   "metadata": {},
   "outputs": [
    {
     "data": {
      "text/plain": [
       "['Product Price',\n",
       " 'Product Type',\n",
       " 'Product Name',\n",
       " 'Processor Type',\n",
       " 'RAM',\n",
       " 'Storage Capacity',\n",
       " 'Graphics Card',\n",
       " 'Screen Size',\n",
       " 'Display Resolution',\n",
       " 'Touch Display',\n",
       " 'Network and Communication',\n",
       " 'Operating System',\n",
       " 'Front Camera',\n",
       " 'Battery Type',\n",
       " 'Color',\n",
       " 'Warranty Period(Months)',\n",
       " 'Brand']"
      ]
     },
     "execution_count": 192,
     "metadata": {},
     "output_type": "execute_result"
    }
   ],
   "source": [
    "df.columns.tolist()"
   ]
  },
  {
   "cell_type": "code",
   "execution_count": 193,
   "id": "73661f1b-9d09-410d-a67b-707cb42ec04a",
   "metadata": {},
   "outputs": [],
   "source": [
    "df = df[['Product Name','Brand','Product Type', 'Product Price','Color','Processor Type','RAM','Storage Capacity','Graphics Card','Screen Size','Display Resolution',\n",
    "         'Touch Display','Network and Communication','Operating System','Front Camera', 'Battery Type','Warranty Period(Months)',]]"
   ]
  },
  {
   "cell_type": "code",
   "execution_count": 194,
   "id": "3d58fa83-222a-4692-9384-22516386d0b8",
   "metadata": {},
   "outputs": [
    {
     "data": {
      "text/plain": [
       "['Product Name',\n",
       " 'Brand',\n",
       " 'Product Type',\n",
       " 'Product Price',\n",
       " 'Color',\n",
       " 'Processor Type',\n",
       " 'RAM',\n",
       " 'Storage Capacity',\n",
       " 'Graphics Card',\n",
       " 'Screen Size',\n",
       " 'Display Resolution',\n",
       " 'Touch Display',\n",
       " 'Network and Communication',\n",
       " 'Operating System',\n",
       " 'Front Camera',\n",
       " 'Battery Type',\n",
       " 'Warranty Period(Months)']"
      ]
     },
     "execution_count": 194,
     "metadata": {},
     "output_type": "execute_result"
    }
   ],
   "source": [
    "df.columns.tolist()"
   ]
  },
  {
   "cell_type": "code",
   "execution_count": 195,
   "id": "aef700c8-8665-413f-b2fa-5882a70a4b55",
   "metadata": {},
   "outputs": [
    {
     "data": {
      "text/plain": [
       "0                     16GB LPDDR5\n",
       "1                        8GB DDR4\n",
       "2                4GB DDR4 3200MHz\n",
       "3                         8GB Ram\n",
       "4                        8GB DDR4\n",
       "                  ...            \n",
       "310                       8GB Ram\n",
       "311              4GB DDR4 3200MHz\n",
       "312              4GB DDR4 3200MHz\n",
       "313                       4GB Ram\n",
       "314    16GB Soldered LPDDR5x-8448\n",
       "Name: RAM, Length: 315, dtype: object"
      ]
     },
     "execution_count": 195,
     "metadata": {},
     "output_type": "execute_result"
    }
   ],
   "source": [
    "df['RAM']"
   ]
  },
  {
   "cell_type": "code",
   "execution_count": 196,
   "id": "99bce51a-7855-4d5e-872a-077c5361d3fa",
   "metadata": {},
   "outputs": [
    {
     "name": "stderr",
     "output_type": "stream",
     "text": [
      "<>:1: SyntaxWarning:\n",
      "\n",
      "invalid escape sequence '\\d'\n",
      "\n",
      "<>:1: SyntaxWarning:\n",
      "\n",
      "invalid escape sequence '\\d'\n",
      "\n",
      "C:\\Users\\queen\\AppData\\Local\\Temp\\ipykernel_4748\\1994964757.py:1: SyntaxWarning:\n",
      "\n",
      "invalid escape sequence '\\d'\n",
      "\n"
     ]
    }
   ],
   "source": [
    "df['RAM'] = df['RAM'].str.extract('(\\d+)', expand=False)"
   ]
  },
  {
   "cell_type": "code",
   "execution_count": 197,
   "id": "783797cd-d7de-4210-a9a6-6f15ee7e53bb",
   "metadata": {},
   "outputs": [
    {
     "data": {
      "text/plain": [
       "0      16\n",
       "1       8\n",
       "2       4\n",
       "3       8\n",
       "4       8\n",
       "       ..\n",
       "310     8\n",
       "311     4\n",
       "312     4\n",
       "313     4\n",
       "314    16\n",
       "Name: RAM, Length: 315, dtype: object"
      ]
     },
     "execution_count": 197,
     "metadata": {},
     "output_type": "execute_result"
    }
   ],
   "source": [
    "df['RAM']"
   ]
  },
  {
   "cell_type": "code",
   "execution_count": 198,
   "id": "618f0439-a02f-4d25-b2d4-5ba0de84a944",
   "metadata": {},
   "outputs": [],
   "source": [
    "df.rename(columns={'RAM':'RAM(GB)'}, inplace=True)"
   ]
  },
  {
   "cell_type": "code",
   "execution_count": 199,
   "id": "1cee874e-219a-4869-a4ef-5858b19f8886",
   "metadata": {},
   "outputs": [
    {
     "data": {
      "text/plain": [
       "Product Name                  object\n",
       "Brand                         object\n",
       "Product Type                  object\n",
       "Product Price                  int32\n",
       "Color                         object\n",
       "Processor Type                object\n",
       "RAM(GB)                       object\n",
       "Storage Capacity              object\n",
       "Graphics Card                 object\n",
       "Screen Size                   object\n",
       "Display Resolution            object\n",
       "Touch Display                   bool\n",
       "Network and Communication     object\n",
       "Operating System              object\n",
       "Front Camera                  object\n",
       "Battery Type                  object\n",
       "Warranty Period(Months)      float64\n",
       "dtype: object"
      ]
     },
     "execution_count": 199,
     "metadata": {},
     "output_type": "execute_result"
    }
   ],
   "source": [
    "df.dtypes"
   ]
  },
  {
   "cell_type": "code",
   "execution_count": 200,
   "id": "dc8a55c2-3e94-4f7b-aff8-90506a50c9ef",
   "metadata": {},
   "outputs": [],
   "source": [
    "df['RAM(GB)'] = df['RAM(GB)'].astype(int)"
   ]
  },
  {
   "cell_type": "code",
   "execution_count": 201,
   "id": "51c6e953-79ee-45a9-b162-87cb4274508c",
   "metadata": {},
   "outputs": [
    {
     "data": {
      "text/plain": [
       "Product Name                  object\n",
       "Brand                         object\n",
       "Product Type                  object\n",
       "Product Price                  int32\n",
       "Color                         object\n",
       "Processor Type                object\n",
       "RAM(GB)                        int32\n",
       "Storage Capacity              object\n",
       "Graphics Card                 object\n",
       "Screen Size                   object\n",
       "Display Resolution            object\n",
       "Touch Display                   bool\n",
       "Network and Communication     object\n",
       "Operating System              object\n",
       "Front Camera                  object\n",
       "Battery Type                  object\n",
       "Warranty Period(Months)      float64\n",
       "dtype: object"
      ]
     },
     "execution_count": 201,
     "metadata": {},
     "output_type": "execute_result"
    }
   ],
   "source": [
    "df.dtypes"
   ]
  },
  {
   "cell_type": "code",
   "execution_count": 202,
   "id": "bb1c3f06-235e-49f0-9816-ba7bd4f387c3",
   "metadata": {},
   "outputs": [
    {
     "data": {
      "text/plain": [
       "(315, 17)"
      ]
     },
     "execution_count": 202,
     "metadata": {},
     "output_type": "execute_result"
    }
   ],
   "source": [
    "df.shape"
   ]
  },
  {
   "cell_type": "code",
   "execution_count": 203,
   "id": "40732eb5-77dd-46d9-bb85-e2a3f60d8939",
   "metadata": {},
   "outputs": [
    {
     "data": {
      "text/plain": [
       "0         13 inch\n",
       "1       15.6 inch\n",
       "2       15.6 inch\n",
       "3       15.3 inch\n",
       "4       15.6 inch\n",
       "          ...    \n",
       "310     13.3 inch\n",
       "311     15.6 inch\n",
       "312     15.6 inch\n",
       "313    10.5\" inch\n",
       "314     15.6 inch\n",
       "Name: Screen Size, Length: 315, dtype: object"
      ]
     },
     "execution_count": 203,
     "metadata": {},
     "output_type": "execute_result"
    }
   ],
   "source": [
    "df['Screen Size']"
   ]
  },
  {
   "cell_type": "code",
   "execution_count": 204,
   "id": "66c06d7b-8d3b-428f-a125-24c4960ad7e8",
   "metadata": {},
   "outputs": [],
   "source": [
    "df.rename(columns={'Screen Size':'Screen Size(inch)'}, inplace=True)"
   ]
  },
  {
   "cell_type": "code",
   "execution_count": 205,
   "id": "6b82f03b-6c32-492d-b1b1-0992f57603ec",
   "metadata": {},
   "outputs": [
    {
     "data": {
      "text/plain": [
       "Product Name                  object\n",
       "Brand                         object\n",
       "Product Type                  object\n",
       "Product Price                  int32\n",
       "Color                         object\n",
       "Processor Type                object\n",
       "RAM(GB)                        int32\n",
       "Storage Capacity              object\n",
       "Graphics Card                 object\n",
       "Screen Size(inch)             object\n",
       "Display Resolution            object\n",
       "Touch Display                   bool\n",
       "Network and Communication     object\n",
       "Operating System              object\n",
       "Front Camera                  object\n",
       "Battery Type                  object\n",
       "Warranty Period(Months)      float64\n",
       "dtype: object"
      ]
     },
     "execution_count": 205,
     "metadata": {},
     "output_type": "execute_result"
    }
   ],
   "source": [
    "df.dtypes"
   ]
  },
  {
   "cell_type": "code",
   "execution_count": 206,
   "id": "39b397ee-50df-4495-8f26-10092428047e",
   "metadata": {},
   "outputs": [],
   "source": [
    "df['Screen Size(inch)'] = df['Screen Size(inch)'].replace({'inch': ''}, regex=True)"
   ]
  },
  {
   "cell_type": "code",
   "execution_count": 207,
   "id": "b4c2f309-e323-463f-a71b-038356230b90",
   "metadata": {},
   "outputs": [],
   "source": [
    "df['Screen Size(inch)'] = df['Screen Size(inch)'].replace({'\"': ''}, regex=True)"
   ]
  },
  {
   "cell_type": "code",
   "execution_count": 208,
   "id": "0c8f2288-f596-4a64-88c1-3653420b9091",
   "metadata": {},
   "outputs": [
    {
     "data": {
      "text/plain": [
       "0        13 \n",
       "1      15.6 \n",
       "2      15.6 \n",
       "3      15.3 \n",
       "4      15.6 \n",
       "       ...  \n",
       "310    13.3 \n",
       "311    15.6 \n",
       "312    15.6 \n",
       "313    10.5 \n",
       "314    15.6 \n",
       "Name: Screen Size(inch), Length: 315, dtype: object"
      ]
     },
     "execution_count": 208,
     "metadata": {},
     "output_type": "execute_result"
    }
   ],
   "source": [
    "df['Screen Size(inch)']"
   ]
  },
  {
   "cell_type": "code",
   "execution_count": 209,
   "id": "8b89126f-41a0-4406-a78e-9ddadb976fee",
   "metadata": {},
   "outputs": [],
   "source": [
    "df['Screen Size(inch)'] = df['Screen Size(inch)'].astype(float)"
   ]
  },
  {
   "cell_type": "code",
   "execution_count": 210,
   "id": "91358971-f562-4f16-b1d1-13b15fb0ee49",
   "metadata": {},
   "outputs": [
    {
     "data": {
      "text/plain": [
       "Product Name                  object\n",
       "Brand                         object\n",
       "Product Type                  object\n",
       "Product Price                  int32\n",
       "Color                         object\n",
       "Processor Type                object\n",
       "RAM(GB)                        int32\n",
       "Storage Capacity              object\n",
       "Graphics Card                 object\n",
       "Screen Size(inch)            float64\n",
       "Display Resolution            object\n",
       "Touch Display                   bool\n",
       "Network and Communication     object\n",
       "Operating System              object\n",
       "Front Camera                  object\n",
       "Battery Type                  object\n",
       "Warranty Period(Months)      float64\n",
       "dtype: object"
      ]
     },
     "execution_count": 210,
     "metadata": {},
     "output_type": "execute_result"
    }
   ],
   "source": [
    "df.dtypes"
   ]
  },
  {
   "cell_type": "code",
   "execution_count": 211,
   "id": "2add50f9-75a2-47cd-9c6c-1dcbb03db6cf",
   "metadata": {},
   "outputs": [
    {
     "data": {
      "text/html": [
       "<div>\n",
       "<style scoped>\n",
       "    .dataframe tbody tr th:only-of-type {\n",
       "        vertical-align: middle;\n",
       "    }\n",
       "\n",
       "    .dataframe tbody tr th {\n",
       "        vertical-align: top;\n",
       "    }\n",
       "\n",
       "    .dataframe thead th {\n",
       "        text-align: right;\n",
       "    }\n",
       "</style>\n",
       "<table border=\"1\" class=\"dataframe\">\n",
       "  <thead>\n",
       "    <tr style=\"text-align: right;\">\n",
       "      <th></th>\n",
       "      <th>Product Name</th>\n",
       "      <th>Brand</th>\n",
       "      <th>Product Type</th>\n",
       "      <th>Product Price</th>\n",
       "      <th>Color</th>\n",
       "      <th>Processor Type</th>\n",
       "      <th>RAM(GB)</th>\n",
       "      <th>Storage Capacity</th>\n",
       "      <th>Graphics Card</th>\n",
       "      <th>Screen Size(inch)</th>\n",
       "      <th>Display Resolution</th>\n",
       "      <th>Touch Display</th>\n",
       "      <th>Network and Communication</th>\n",
       "      <th>Operating System</th>\n",
       "      <th>Front Camera</th>\n",
       "      <th>Battery Type</th>\n",
       "      <th>Warranty Period(Months)</th>\n",
       "    </tr>\n",
       "  </thead>\n",
       "  <tbody>\n",
       "    <tr>\n",
       "      <th>0</th>\n",
       "      <td>Microsoft Surface Pro 9</td>\n",
       "      <td>Microsoft</td>\n",
       "      <td>2-in-1</td>\n",
       "      <td>6799</td>\n",
       "      <td>Graphite</td>\n",
       "      <td>Intel Core i7-1265U (12th Gen) Evo Platform</td>\n",
       "      <td>16</td>\n",
       "      <td>512GB SSD M.2</td>\n",
       "      <td>Intel Iris Xe Graphics</td>\n",
       "      <td>13.0</td>\n",
       "      <td>2880X1920 (267 PPI)</td>\n",
       "      <td>True</td>\n",
       "      <td>WiFi 6E (802.11ax) and Bluetooth 5.1</td>\n",
       "      <td>Windows 11 Home</td>\n",
       "      <td>Front-facing camera with 1080p full HD video</td>\n",
       "      <td>Up to 15.5 hours of typical device usage</td>\n",
       "      <td>24.0</td>\n",
       "    </tr>\n",
       "    <tr>\n",
       "      <th>1</th>\n",
       "      <td>Acer Travelmate TMP215-53-596G</td>\n",
       "      <td>Acer</td>\n",
       "      <td>Business</td>\n",
       "      <td>1899</td>\n",
       "      <td>Shale Black</td>\n",
       "      <td>Intel Core i5-1135G7 (11th Gen)</td>\n",
       "      <td>8</td>\n",
       "      <td>512GB SSD M.2</td>\n",
       "      <td>Intel Iris Xe Graphics</td>\n",
       "      <td>15.6</td>\n",
       "      <td>1920x1080</td>\n",
       "      <td>False</td>\n",
       "      <td>Wi-Fi 6 + Bluetooth 5.0</td>\n",
       "      <td>Dos</td>\n",
       "      <td>HD Camera with 2 Mic</td>\n",
       "      <td>Lithium Ion (Li-Ion)</td>\n",
       "      <td>36.0</td>\n",
       "    </tr>\n",
       "    <tr>\n",
       "      <th>2</th>\n",
       "      <td>HP 15-fd0021nx</td>\n",
       "      <td>HP</td>\n",
       "      <td>standard</td>\n",
       "      <td>1149</td>\n",
       "      <td>Natural Silver</td>\n",
       "      <td>Intel Core i3-1315U (13th Gen)</td>\n",
       "      <td>4</td>\n",
       "      <td>256GB SSD M.2</td>\n",
       "      <td>Intel Iris Xe Graphics</td>\n",
       "      <td>15.6</td>\n",
       "      <td>1920x1080</td>\n",
       "      <td>False</td>\n",
       "      <td>Wi-Fi 6 + Bluetooth 5.3</td>\n",
       "      <td>Dos</td>\n",
       "      <td>HP True Vision 720p HD camera with temporal no...</td>\n",
       "      <td>3-cell, 41 Wh Li-ion</td>\n",
       "      <td>24.0</td>\n",
       "    </tr>\n",
       "    <tr>\n",
       "      <th>3</th>\n",
       "      <td>MacBook Air M2 15.3 2023</td>\n",
       "      <td>MacBook</td>\n",
       "      <td>standard</td>\n",
       "      <td>4499</td>\n",
       "      <td>Midnight</td>\n",
       "      <td>Apple M2 chip</td>\n",
       "      <td>8</td>\n",
       "      <td>256GB SSD</td>\n",
       "      <td>10-core GPU</td>\n",
       "      <td>15.3</td>\n",
       "      <td>Liquid Retina 2880x1864</td>\n",
       "      <td>False</td>\n",
       "      <td>Wi-Fi 6 + Bluetooth 5.3</td>\n",
       "      <td>macOS Ventura</td>\n",
       "      <td>1080p FaceTime HD camera</td>\n",
       "      <td>Up to 18 hours of typical device usage</td>\n",
       "      <td>24.0</td>\n",
       "    </tr>\n",
       "    <tr>\n",
       "      <th>4</th>\n",
       "      <td>Acer Aspire 3 A315-58-74GF</td>\n",
       "      <td>Acer</td>\n",
       "      <td>standard</td>\n",
       "      <td>1999</td>\n",
       "      <td>Pure Silver</td>\n",
       "      <td>Intel Core i7-1165G7 (11th Gen)</td>\n",
       "      <td>8</td>\n",
       "      <td>512GB SSD M.2</td>\n",
       "      <td>Intel Iris Xe Graphics</td>\n",
       "      <td>15.6</td>\n",
       "      <td>1920x1080</td>\n",
       "      <td>False</td>\n",
       "      <td>Wi-Fi + Bluetooth</td>\n",
       "      <td>Dos</td>\n",
       "      <td>HD Camera with 2 Mic</td>\n",
       "      <td>36Wh Li-ion battery</td>\n",
       "      <td>24.0</td>\n",
       "    </tr>\n",
       "    <tr>\n",
       "      <th>...</th>\n",
       "      <td>...</td>\n",
       "      <td>...</td>\n",
       "      <td>...</td>\n",
       "      <td>...</td>\n",
       "      <td>...</td>\n",
       "      <td>...</td>\n",
       "      <td>...</td>\n",
       "      <td>...</td>\n",
       "      <td>...</td>\n",
       "      <td>...</td>\n",
       "      <td>...</td>\n",
       "      <td>...</td>\n",
       "      <td>...</td>\n",
       "      <td>...</td>\n",
       "      <td>...</td>\n",
       "      <td>...</td>\n",
       "      <td>...</td>\n",
       "    </tr>\n",
       "    <tr>\n",
       "      <th>310</th>\n",
       "      <td>MacBook Air M1 2020</td>\n",
       "      <td>MacBook</td>\n",
       "      <td>standard</td>\n",
       "      <td>2699</td>\n",
       "      <td>Space Gray</td>\n",
       "      <td>Apple M1 chip</td>\n",
       "      <td>8</td>\n",
       "      <td>256GB SSD</td>\n",
       "      <td>7-core GPU</td>\n",
       "      <td>13.3</td>\n",
       "      <td>Retina Display 2560x1600</td>\n",
       "      <td>False</td>\n",
       "      <td>Not Available</td>\n",
       "      <td>macOS Big Sur</td>\n",
       "      <td>720p FaceTime HD Camera</td>\n",
       "      <td>Lithium Ion Polymer</td>\n",
       "      <td>24.0</td>\n",
       "    </tr>\n",
       "    <tr>\n",
       "      <th>311</th>\n",
       "      <td>Lenovo IdeaPad 1 15IAU7</td>\n",
       "      <td>Lenovo</td>\n",
       "      <td>standard</td>\n",
       "      <td>994</td>\n",
       "      <td>ABYSS Blue</td>\n",
       "      <td>Intel Core i3-1215U (12th Gen)</td>\n",
       "      <td>4</td>\n",
       "      <td>512GB SSD M.2</td>\n",
       "      <td>Intel UHD Graphics</td>\n",
       "      <td>15.6</td>\n",
       "      <td>1366 x 768 HD</td>\n",
       "      <td>False</td>\n",
       "      <td>Wi-Fi 6 + Bluetooth 5.2</td>\n",
       "      <td>Dos</td>\n",
       "      <td>720p HD with Privacy Shutter</td>\n",
       "      <td>3 Cell, Integrated 42Wh</td>\n",
       "      <td>24.0</td>\n",
       "    </tr>\n",
       "    <tr>\n",
       "      <th>312</th>\n",
       "      <td>HP 250 G10</td>\n",
       "      <td>HP</td>\n",
       "      <td>standard</td>\n",
       "      <td>1199</td>\n",
       "      <td>Turbo silver with Aluminum Top Cover</td>\n",
       "      <td>Intel Core i3-1315U (13th Gen)</td>\n",
       "      <td>4</td>\n",
       "      <td>256GB SSD M.2</td>\n",
       "      <td>Intel UHD Graphics</td>\n",
       "      <td>15.6</td>\n",
       "      <td>1920x1080</td>\n",
       "      <td>False</td>\n",
       "      <td>Wi-Fi 6 + Bluetooth 5.3</td>\n",
       "      <td>Dos</td>\n",
       "      <td>720p HD Camera</td>\n",
       "      <td>HP Long Life 3-cell, 41 Wh Li-ion</td>\n",
       "      <td>24.0</td>\n",
       "    </tr>\n",
       "    <tr>\n",
       "      <th>313</th>\n",
       "      <td>Microsoft Surface Go 2</td>\n",
       "      <td>Microsoft</td>\n",
       "      <td>2-in-1</td>\n",
       "      <td>1149</td>\n",
       "      <td>Platinum</td>\n",
       "      <td>Intel Pentium 4425Y</td>\n",
       "      <td>4</td>\n",
       "      <td>64GB eMMC</td>\n",
       "      <td>Intel UHD Graphics 615</td>\n",
       "      <td>10.5</td>\n",
       "      <td>1920 x 1280 (220 PPI)</td>\n",
       "      <td>True</td>\n",
       "      <td>Wi-Fi + Bluetooth</td>\n",
       "      <td>Windows 10 Professional</td>\n",
       "      <td>5 MP HD</td>\n",
       "      <td>Lithium Polymer (Li-Po)</td>\n",
       "      <td>24.0</td>\n",
       "    </tr>\n",
       "    <tr>\n",
       "      <th>314</th>\n",
       "      <td>IdeaPad Slim 5 14Q8X9</td>\n",
       "      <td>IdeaPad</td>\n",
       "      <td>standard</td>\n",
       "      <td>3699</td>\n",
       "      <td>Cloud Grey</td>\n",
       "      <td>Snapdragon X Plus X1P 42 100</td>\n",
       "      <td>16</td>\n",
       "      <td>512GB SSD M.2</td>\n",
       "      <td>Qualcomm Adreno GPU</td>\n",
       "      <td>15.6</td>\n",
       "      <td>1920x1200</td>\n",
       "      <td>False</td>\n",
       "      <td>Wi-Fi 7 + Bluetooth 5.4</td>\n",
       "      <td>Windows 11 Home</td>\n",
       "      <td>FHD 1080p with Privacy Shutter</td>\n",
       "      <td>Integrated 57Wh</td>\n",
       "      <td>24.0</td>\n",
       "    </tr>\n",
       "  </tbody>\n",
       "</table>\n",
       "<p>315 rows × 17 columns</p>\n",
       "</div>"
      ],
      "text/plain": [
       "                       Product Name      Brand Product Type  Product Price  \\\n",
       "0           Microsoft Surface Pro 9  Microsoft       2-in-1           6799   \n",
       "1    Acer Travelmate TMP215-53-596G       Acer     Business           1899   \n",
       "2                    HP 15-fd0021nx         HP     standard           1149   \n",
       "3          MacBook Air M2 15.3 2023    MacBook     standard           4499   \n",
       "4        Acer Aspire 3 A315-58-74GF       Acer     standard           1999   \n",
       "..                              ...        ...          ...            ...   \n",
       "310             MacBook Air M1 2020    MacBook     standard           2699   \n",
       "311         Lenovo IdeaPad 1 15IAU7     Lenovo     standard            994   \n",
       "312                      HP 250 G10         HP     standard           1199   \n",
       "313          Microsoft Surface Go 2  Microsoft       2-in-1           1149   \n",
       "314           IdeaPad Slim 5 14Q8X9    IdeaPad     standard           3699   \n",
       "\n",
       "                                    Color  \\\n",
       "0                                Graphite   \n",
       "1                             Shale Black   \n",
       "2                          Natural Silver   \n",
       "3                                Midnight   \n",
       "4                             Pure Silver   \n",
       "..                                    ...   \n",
       "310                            Space Gray   \n",
       "311                            ABYSS Blue   \n",
       "312  Turbo silver with Aluminum Top Cover   \n",
       "313                              Platinum   \n",
       "314                            Cloud Grey   \n",
       "\n",
       "                                  Processor Type  RAM(GB) Storage Capacity  \\\n",
       "0    Intel Core i7-1265U (12th Gen) Evo Platform       16    512GB SSD M.2   \n",
       "1                Intel Core i5-1135G7 (11th Gen)        8    512GB SSD M.2   \n",
       "2                 Intel Core i3-1315U (13th Gen)        4    256GB SSD M.2   \n",
       "3                                  Apple M2 chip        8        256GB SSD   \n",
       "4                Intel Core i7-1165G7 (11th Gen)        8    512GB SSD M.2   \n",
       "..                                           ...      ...              ...   \n",
       "310                                Apple M1 chip        8        256GB SSD   \n",
       "311               Intel Core i3-1215U (12th Gen)        4    512GB SSD M.2   \n",
       "312               Intel Core i3-1315U (13th Gen)        4    256GB SSD M.2   \n",
       "313                          Intel Pentium 4425Y        4        64GB eMMC   \n",
       "314                 Snapdragon X Plus X1P 42 100       16    512GB SSD M.2   \n",
       "\n",
       "              Graphics Card  Screen Size(inch)        Display Resolution  \\\n",
       "0    Intel Iris Xe Graphics               13.0       2880X1920 (267 PPI)   \n",
       "1    Intel Iris Xe Graphics               15.6                 1920x1080   \n",
       "2    Intel Iris Xe Graphics               15.6                 1920x1080   \n",
       "3               10-core GPU               15.3   Liquid Retina 2880x1864   \n",
       "4    Intel Iris Xe Graphics               15.6                 1920x1080   \n",
       "..                      ...                ...                       ...   \n",
       "310              7-core GPU               13.3  Retina Display 2560x1600   \n",
       "311      Intel UHD Graphics               15.6             1366 x 768 HD   \n",
       "312      Intel UHD Graphics               15.6                 1920x1080   \n",
       "313  Intel UHD Graphics 615               10.5     1920 x 1280 (220 PPI)   \n",
       "314     Qualcomm Adreno GPU               15.6                 1920x1200   \n",
       "\n",
       "     Touch Display             Network and Communication  \\\n",
       "0             True  WiFi 6E (802.11ax) and Bluetooth 5.1   \n",
       "1            False               Wi-Fi 6 + Bluetooth 5.0   \n",
       "2            False               Wi-Fi 6 + Bluetooth 5.3   \n",
       "3            False               Wi-Fi 6 + Bluetooth 5.3   \n",
       "4            False                     Wi-Fi + Bluetooth   \n",
       "..             ...                                   ...   \n",
       "310          False                         Not Available   \n",
       "311          False               Wi-Fi 6 + Bluetooth 5.2   \n",
       "312          False               Wi-Fi 6 + Bluetooth 5.3   \n",
       "313           True                     Wi-Fi + Bluetooth   \n",
       "314          False               Wi-Fi 7 + Bluetooth 5.4   \n",
       "\n",
       "            Operating System  \\\n",
       "0            Windows 11 Home   \n",
       "1                        Dos   \n",
       "2                        Dos   \n",
       "3              macOS Ventura   \n",
       "4                        Dos   \n",
       "..                       ...   \n",
       "310            macOS Big Sur   \n",
       "311                      Dos   \n",
       "312                      Dos   \n",
       "313  Windows 10 Professional   \n",
       "314          Windows 11 Home   \n",
       "\n",
       "                                          Front Camera  \\\n",
       "0         Front-facing camera with 1080p full HD video   \n",
       "1                                 HD Camera with 2 Mic   \n",
       "2    HP True Vision 720p HD camera with temporal no...   \n",
       "3                             1080p FaceTime HD camera   \n",
       "4                                 HD Camera with 2 Mic   \n",
       "..                                                 ...   \n",
       "310                            720p FaceTime HD Camera   \n",
       "311                       720p HD with Privacy Shutter   \n",
       "312                                     720p HD Camera   \n",
       "313                                            5 MP HD   \n",
       "314                     FHD 1080p with Privacy Shutter   \n",
       "\n",
       "                                 Battery Type  Warranty Period(Months)  \n",
       "0    Up to 15.5 hours of typical device usage                     24.0  \n",
       "1                        Lithium Ion (Li-Ion)                     36.0  \n",
       "2                        3-cell, 41 Wh Li-ion                     24.0  \n",
       "3      Up to 18 hours of typical device usage                     24.0  \n",
       "4                         36Wh Li-ion battery                     24.0  \n",
       "..                                        ...                      ...  \n",
       "310                       Lithium Ion Polymer                     24.0  \n",
       "311                   3 Cell, Integrated 42Wh                     24.0  \n",
       "312         HP Long Life 3-cell, 41 Wh Li-ion                     24.0  \n",
       "313                   Lithium Polymer (Li-Po)                     24.0  \n",
       "314                           Integrated 57Wh                     24.0  \n",
       "\n",
       "[315 rows x 17 columns]"
      ]
     },
     "execution_count": 211,
     "metadata": {},
     "output_type": "execute_result"
    }
   ],
   "source": [
    "df"
   ]
  },
  {
   "cell_type": "code",
   "execution_count": 212,
   "id": "01f8ff54-f115-492b-9567-3ed8dc1b96d4",
   "metadata": {},
   "outputs": [
    {
     "data": {
      "text/plain": [
       "(315, 17)"
      ]
     },
     "execution_count": 212,
     "metadata": {},
     "output_type": "execute_result"
    }
   ],
   "source": [
    "df.shape"
   ]
  },
  {
   "cell_type": "code",
   "execution_count": 213,
   "id": "0a7b0cb7-4caf-4808-9878-29f466e2d57f",
   "metadata": {},
   "outputs": [
    {
     "data": {
      "text/html": [
       "<div>\n",
       "<style scoped>\n",
       "    .dataframe tbody tr th:only-of-type {\n",
       "        vertical-align: middle;\n",
       "    }\n",
       "\n",
       "    .dataframe tbody tr th {\n",
       "        vertical-align: top;\n",
       "    }\n",
       "\n",
       "    .dataframe thead th {\n",
       "        text-align: right;\n",
       "    }\n",
       "</style>\n",
       "<table border=\"1\" class=\"dataframe\">\n",
       "  <thead>\n",
       "    <tr style=\"text-align: right;\">\n",
       "      <th></th>\n",
       "      <th>Product Name</th>\n",
       "      <th>Brand</th>\n",
       "      <th>Product Type</th>\n",
       "      <th>Product Price</th>\n",
       "      <th>Color</th>\n",
       "      <th>Processor Type</th>\n",
       "      <th>RAM(GB)</th>\n",
       "      <th>Storage Capacity</th>\n",
       "      <th>Graphics Card</th>\n",
       "      <th>Screen Size(inch)</th>\n",
       "      <th>Display Resolution</th>\n",
       "      <th>Touch Display</th>\n",
       "      <th>Network and Communication</th>\n",
       "      <th>Operating System</th>\n",
       "      <th>Front Camera</th>\n",
       "      <th>Battery Type</th>\n",
       "      <th>Warranty Period(Months)</th>\n",
       "    </tr>\n",
       "  </thead>\n",
       "  <tbody>\n",
       "    <tr>\n",
       "      <th>74</th>\n",
       "      <td>ASUS ROG Strix G15 G513RC-HN148</td>\n",
       "      <td>ASUS</td>\n",
       "      <td>Gaming</td>\n",
       "      <td>3699</td>\n",
       "      <td>ECLIPSE GRAY</td>\n",
       "      <td>AMD Ryzen 7-6800H</td>\n",
       "      <td>16</td>\n",
       "      <td>1TB SSD M.2</td>\n",
       "      <td>NVIDIA GeForce RTX 3050 4GB</td>\n",
       "      <td>15.6</td>\n",
       "      <td>1920x1080</td>\n",
       "      <td>False</td>\n",
       "      <td>Wi-Fi 6E (802.11ax) (Triple band) 2*2 + Blueto...</td>\n",
       "      <td>Dos</td>\n",
       "      <td>NaN</td>\n",
       "      <td>56WHrs, 4S1P, 4-cell Li-ion</td>\n",
       "      <td>24.0</td>\n",
       "    </tr>\n",
       "    <tr>\n",
       "      <th>83</th>\n",
       "      <td>ASUS ROG Strix G15 G513RC-HN092</td>\n",
       "      <td>ASUS</td>\n",
       "      <td>Gaming</td>\n",
       "      <td>3699</td>\n",
       "      <td>ECLIPSE GRAY</td>\n",
       "      <td>AMD Ryzen 7-6800H</td>\n",
       "      <td>16</td>\n",
       "      <td>512GB SSD M.2</td>\n",
       "      <td>NVIDIA GeForce RTX 3050 4GB</td>\n",
       "      <td>15.6</td>\n",
       "      <td>1920x1080</td>\n",
       "      <td>False</td>\n",
       "      <td>Wi-Fi 6E (802.11ax) (Triple band) 2*2 + Blueto...</td>\n",
       "      <td>Dos</td>\n",
       "      <td>NaN</td>\n",
       "      <td>56WHrs, 4S1P, 4-cell Li-ion</td>\n",
       "      <td>24.0</td>\n",
       "    </tr>\n",
       "    <tr>\n",
       "      <th>153</th>\n",
       "      <td>Vostro 3530</td>\n",
       "      <td>Vostro</td>\n",
       "      <td>Business</td>\n",
       "      <td>2399</td>\n",
       "      <td>Carbon Black</td>\n",
       "      <td>Intel Core i7-1355U (13th Gen)</td>\n",
       "      <td>8</td>\n",
       "      <td>512GB SSD M.2</td>\n",
       "      <td>Intel UHD Graphics</td>\n",
       "      <td>15.6</td>\n",
       "      <td>1920x1080</td>\n",
       "      <td>False</td>\n",
       "      <td>Wi-Fi + Bluetooth</td>\n",
       "      <td>Dos</td>\n",
       "      <td>NaN</td>\n",
       "      <td>4 Cell, integrated 54Wh</td>\n",
       "      <td>24.0</td>\n",
       "    </tr>\n",
       "    <tr>\n",
       "      <th>186</th>\n",
       "      <td>ASUS ROG Strix G17 G713RC-HX040</td>\n",
       "      <td>ASUS</td>\n",
       "      <td>Gaming</td>\n",
       "      <td>3899</td>\n",
       "      <td>ECLIPSE GRAY</td>\n",
       "      <td>AMD Ryzen 7-6800H</td>\n",
       "      <td>16</td>\n",
       "      <td>1TB SSD M.2</td>\n",
       "      <td>NVIDIA GeForce RTX 3050 4GB</td>\n",
       "      <td>17.3</td>\n",
       "      <td>1920x1080</td>\n",
       "      <td>False</td>\n",
       "      <td>Wi-Fi 6E (802.11ax) (Triple band) 2*2 + Blueto...</td>\n",
       "      <td>Dos</td>\n",
       "      <td>NaN</td>\n",
       "      <td>56WHrs, 4S1P, 4-cell Li-ion</td>\n",
       "      <td>24.0</td>\n",
       "    </tr>\n",
       "  </tbody>\n",
       "</table>\n",
       "</div>"
      ],
      "text/plain": [
       "                        Product Name   Brand Product Type  Product Price  \\\n",
       "74   ASUS ROG Strix G15 G513RC-HN148    ASUS       Gaming           3699   \n",
       "83   ASUS ROG Strix G15 G513RC-HN092    ASUS       Gaming           3699   \n",
       "153                      Vostro 3530  Vostro     Business           2399   \n",
       "186  ASUS ROG Strix G17 G713RC-HX040    ASUS       Gaming           3899   \n",
       "\n",
       "            Color                  Processor Type  RAM(GB) Storage Capacity  \\\n",
       "74   ECLIPSE GRAY               AMD Ryzen 7-6800H       16      1TB SSD M.2   \n",
       "83   ECLIPSE GRAY               AMD Ryzen 7-6800H       16    512GB SSD M.2   \n",
       "153  Carbon Black  Intel Core i7-1355U (13th Gen)        8    512GB SSD M.2   \n",
       "186  ECLIPSE GRAY               AMD Ryzen 7-6800H       16      1TB SSD M.2   \n",
       "\n",
       "                   Graphics Card  Screen Size(inch) Display Resolution  \\\n",
       "74   NVIDIA GeForce RTX 3050 4GB               15.6          1920x1080   \n",
       "83   NVIDIA GeForce RTX 3050 4GB               15.6          1920x1080   \n",
       "153           Intel UHD Graphics               15.6          1920x1080   \n",
       "186  NVIDIA GeForce RTX 3050 4GB               17.3          1920x1080   \n",
       "\n",
       "     Touch Display                          Network and Communication  \\\n",
       "74           False  Wi-Fi 6E (802.11ax) (Triple band) 2*2 + Blueto...   \n",
       "83           False  Wi-Fi 6E (802.11ax) (Triple band) 2*2 + Blueto...   \n",
       "153          False                                  Wi-Fi + Bluetooth   \n",
       "186          False  Wi-Fi 6E (802.11ax) (Triple band) 2*2 + Blueto...   \n",
       "\n",
       "    Operating System Front Camera                 Battery Type  \\\n",
       "74               Dos          NaN  56WHrs, 4S1P, 4-cell Li-ion   \n",
       "83               Dos          NaN  56WHrs, 4S1P, 4-cell Li-ion   \n",
       "153              Dos          NaN      4 Cell, integrated 54Wh   \n",
       "186              Dos          NaN  56WHrs, 4S1P, 4-cell Li-ion   \n",
       "\n",
       "     Warranty Period(Months)  \n",
       "74                      24.0  \n",
       "83                      24.0  \n",
       "153                     24.0  \n",
       "186                     24.0  "
      ]
     },
     "execution_count": 213,
     "metadata": {},
     "output_type": "execute_result"
    }
   ],
   "source": [
    "df[df.isna().any(axis=1)]"
   ]
  },
  {
   "cell_type": "code",
   "execution_count": 214,
   "id": "6ef62120-ace5-40fa-a0b4-a423d1e62110",
   "metadata": {},
   "outputs": [],
   "source": [
    "df= df[df['Product Price'] <= 12000]"
   ]
  },
  {
   "cell_type": "code",
   "execution_count": 215,
   "id": "a9388950-c172-454a-b342-a6f1d8287b1b",
   "metadata": {},
   "outputs": [
    {
     "data": {
      "text/plain": [
       "(297, 17)"
      ]
     },
     "execution_count": 215,
     "metadata": {},
     "output_type": "execute_result"
    }
   ],
   "source": [
    "df.shape"
   ]
  },
  {
   "cell_type": "code",
   "execution_count": 216,
   "id": "16b79e4d-06bf-4236-a9a2-e1cad51c2e9f",
   "metadata": {},
   "outputs": [
    {
     "data": {
      "text/plain": [
       "Index(['Product Name', 'Brand', 'Product Type', 'Product Price', 'Color',\n",
       "       'Processor Type', 'RAM(GB)', 'Storage Capacity', 'Graphics Card',\n",
       "       'Screen Size(inch)', 'Display Resolution', 'Touch Display',\n",
       "       'Network and Communication', 'Operating System', 'Front Camera',\n",
       "       'Battery Type', 'Warranty Period(Months)'],\n",
       "      dtype='object')"
      ]
     },
     "execution_count": 216,
     "metadata": {},
     "output_type": "execute_result"
    }
   ],
   "source": [
    "df.columns"
   ]
  },
  {
   "cell_type": "code",
   "execution_count": 217,
   "id": "c8a37b14-d9f4-4933-ad3a-76e09fcea71b",
   "metadata": {},
   "outputs": [],
   "source": [
    "df = df.drop(['Brand', 'Graphics Card','Front Camera'], axis=1)"
   ]
  },
  {
   "cell_type": "code",
   "execution_count": 218,
   "id": "f7b25771-2a25-496d-9d4a-73bcfbf5be96",
   "metadata": {},
   "outputs": [
    {
     "data": {
      "text/plain": [
       "(297, 14)"
      ]
     },
     "execution_count": 218,
     "metadata": {},
     "output_type": "execute_result"
    }
   ],
   "source": [
    "df.shape"
   ]
  },
  {
   "cell_type": "code",
   "execution_count": 219,
   "id": "801161da-99ce-464e-bed7-600ad216339d",
   "metadata": {},
   "outputs": [
    {
     "data": {
      "text/plain": [
       "Index(['Product Name', 'Product Type', 'Product Price', 'Color',\n",
       "       'Processor Type', 'RAM(GB)', 'Storage Capacity', 'Screen Size(inch)',\n",
       "       'Display Resolution', 'Touch Display', 'Network and Communication',\n",
       "       'Operating System', 'Battery Type', 'Warranty Period(Months)'],\n",
       "      dtype='object')"
      ]
     },
     "execution_count": 219,
     "metadata": {},
     "output_type": "execute_result"
    }
   ],
   "source": [
    "df.columns"
   ]
  },
  {
   "cell_type": "code",
   "execution_count": 220,
   "id": "04c39ef0-7868-4017-a1d7-68b09506effe",
   "metadata": {},
   "outputs": [
    {
     "data": {
      "text/plain": [
       "['Product Name',\n",
       " 'Product Type',\n",
       " 'Product Price',\n",
       " 'Color',\n",
       " 'Processor Type',\n",
       " 'RAM(GB)',\n",
       " 'Storage Capacity',\n",
       " 'Screen Size(inch)',\n",
       " 'Display Resolution',\n",
       " 'Touch Display',\n",
       " 'Network and Communication',\n",
       " 'Operating System',\n",
       " 'Battery Type',\n",
       " 'Warranty Period(Months)']"
      ]
     },
     "execution_count": 220,
     "metadata": {},
     "output_type": "execute_result"
    }
   ],
   "source": [
    "df.columns.tolist()"
   ]
  },
  {
   "cell_type": "code",
   "execution_count": 221,
   "id": "b4ccf35d-eecb-4a47-b73c-ff377a206fcc",
   "metadata": {},
   "outputs": [],
   "source": [
    "# Save DataFrame to CSV\n",
    "df.to_csv('Goldendata.csv', index=False)"
   ]
  },
  {
   "cell_type": "code",
   "execution_count": null,
   "id": "e383938e-216f-4eff-bcd1-67f7f53033fa",
   "metadata": {},
   "outputs": [],
   "source": []
  }
 ],
 "metadata": {
  "kernelspec": {
   "display_name": "Python 3 (ipykernel)",
   "language": "python",
   "name": "python3"
  },
  "language_info": {
   "codemirror_mode": {
    "name": "ipython",
    "version": 3
   },
   "file_extension": ".py",
   "mimetype": "text/x-python",
   "name": "python",
   "nbconvert_exporter": "python",
   "pygments_lexer": "ipython3",
   "version": "3.12.7"
  }
 },
 "nbformat": 4,
 "nbformat_minor": 5
}
